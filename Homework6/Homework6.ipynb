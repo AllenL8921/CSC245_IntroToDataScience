{
 "cells": [
  {
   "cell_type": "markdown",
   "metadata": {},
   "source": [
    "💡 Exercise 1: Why is NumPy Faster?\n",
    "\n",
    "🔹 Write a Python program in PyCharm that compares the speed of Python lists vs. NumPy arrays for squaring 1 million numbers."
   ]
  },
  {
   "cell_type": "code",
   "execution_count": 3,
   "metadata": {},
   "outputs": [
    {
     "name": "stdout",
     "output_type": "stream",
     "text": [
      "Python list time : 0.1462099552154541\n",
      "NumPy time : 0.0018837451934814453\n"
     ]
    }
   ],
   "source": [
    "import numpy as np\n",
    "import time\n",
    "\n",
    "n = 1000000\n",
    "\n",
    "# Lists of numbers\n",
    "numbers = list(range(n)) \n",
    "np_numbers = np.arange(n)\n",
    "\n",
    "# Measure the time it takes for a Python list\n",
    "start_time = time.time()\n",
    "squared_list = {x**2 for x in numbers}\n",
    "end_time = time.time()\n",
    "\n",
    "list_time = end_time - start_time\n",
    "\n",
    "# Measure the time it takes for a NumPy list\n",
    "start_time = time.time()\n",
    "squared_numpy = np_numbers**2\n",
    "end_time = time.time()\n",
    "\n",
    "np_time = end_time - start_time\n",
    "\n",
    "# Log the elapsed time\n",
    "print(f\"Python list time : {list_time}\")\n",
    "print(f\"NumPy time : {np_time}\")\n"
   ]
  },
  {
   "cell_type": "markdown",
   "metadata": {},
   "source": [
    "📝 Question: Which approach is faster? Why?\n",
    "\n"
   ]
  },
  {
   "cell_type": "markdown",
   "metadata": {},
   "source": [
    "NumPy appears to be 80x faster than Python lists. This is because NumPy arrays are implemented in C and which is then optimized for speed and efficiency.\n",
    "On the otherhand, Python lists are collections of pointers that point to native Python objects which are not not optimized for numerical efficiency.\n",
    "\n",
    "Another difference is how the operation is applied to NumPy arrays and Python lists.\n",
    "\n",
    "Squaring 1 million numbers in a Python list requires looping over all elements of the list and applying the operation to a single element at a time.\n",
    "NumPy arrays support vectorization which allows operations to be performed across the entire array simultaneously. "
   ]
  },
  {
   "cell_type": "markdown",
   "metadata": {},
   "source": [
    "💡 Exercise 2: Create Different Arrays\n",
    "🔹 Create a 4x4 matrix of random numbers.\n",
    "🔹 Print its shape, size, and dimensions."
   ]
  },
  {
   "cell_type": "code",
   "execution_count": null,
   "metadata": {},
   "outputs": [
    {
     "name": "stdout",
     "output_type": "stream",
     "text": [
      "Random 4x4 Matrix:\n",
      "[[0.00549808 0.54119127 0.66281338 0.79535262]\n",
      " [0.12445965 0.41719279 0.92787339 0.99620133]\n",
      " [0.58178298 0.47879929 0.79433896 0.18405995]\n",
      " [0.80418124 0.49886247 0.22436498 0.60499862]]\n",
      "\n",
      "Shape: (4, 4)\n",
      "Size: 16\n",
      "Dimensions: 2\n"
     ]
    }
   ],
   "source": [
    "# Random 4x4 matrix\n",
    "random_matrix = np.random.rand(4, 4)\n",
    "\n",
    "print(\"Random 4x4 Matrix:\")\n",
    "print(random_matrix)\n",
    "\n",
    "# Print shape, size, and dimensions\n",
    "print(\"\\nShape:\", random_matrix.shape)\n",
    "print(\"Size:\", random_matrix.size)\n",
    "print(\"Dimensions:\", random_matrix.ndim)"
   ]
  },
  {
   "cell_type": "markdown",
   "metadata": {},
   "source": [
    "💡 Exercise 3: Random Data Generation\n",
    "\n",
    "🔹 Create a 3x3 identity matrix.\n",
    "\n",
    "🔹 Create a 1D array of 20 random integers between 1 and 100.\n",
    "\n"
   ]
  },
  {
   "cell_type": "code",
   "execution_count": 12,
   "metadata": {},
   "outputs": [
    {
     "name": "stdout",
     "output_type": "stream",
     "text": [
      "[[1. 0. 0.]\n",
      " [0. 1. 0.]\n",
      " [0. 0. 1.]]\n",
      "[57 44  2  3 18 96 70 15 31 97 23  7 10 39  3 70 45  2 62 45]\n"
     ]
    }
   ],
   "source": [
    "identity_matrix = np.identity(3)\n",
    "print(identity_matrix)\n",
    "\n",
    "# 1D array of 20 random integers between 1 and 100.\n",
    "\n",
    "random_int = np.random.randint(1, 101, size=20)\n",
    "print(random_int)\n"
   ]
  },
  {
   "cell_type": "markdown",
   "metadata": {},
   "source": [
    "💡 Exercise 4: Array Slicing\n",
    "🔹 Given a 5x5 matrix of numbers from 1 to 25, extract:\n",
    "\n",
    "The third row\n",
    "The last two columns\n",
    "A 3x3 submatrix from the center\n"
   ]
  },
  {
   "cell_type": "code",
   "execution_count": 33,
   "metadata": {},
   "outputs": [
    {
     "name": "stdout",
     "output_type": "stream",
     "text": [
      "Entire matrix \n",
      " [[ 1  2  3  4  5]\n",
      " [ 6  7  8  9 10]\n",
      " [11 12 13 14 15]\n",
      " [16 17 18 19 20]\n",
      " [21 22 23 24 25]]\n",
      "Third Row:  [11 12 13 14 15]\n",
      "Last two columns: \n",
      " [[ 4  5]\n",
      " [ 9 10]\n",
      " [14 15]\n",
      " [19 20]\n",
      " [24 25]]\n",
      "A 3x3 submatrix from the center: \n",
      " [[ 7  8  9]\n",
      " [12 13 14]\n",
      " [17 18 19]]\n"
     ]
    }
   ],
   "source": [
    "\n",
    "# 5x5 matirx of numbers from 1 to 25\n",
    "matrix = np.arange(1, 26).reshape(5,5)\n",
    "\n",
    "print(\"Entire matrix \\n\", matrix)\n",
    "\n",
    "print(\"Third Row: \", matrix[2])\n",
    "print(\"Last two columns: \\n\", matrix[ :, -2:])\n",
    "\n",
    "sub_matrix = matrix[1:4, 1:4]\n",
    "print(\"A 3x3 submatrix from the center: \\n\", sub_matrix)\n"
   ]
  },
  {
   "cell_type": "markdown",
   "metadata": {},
   "source": [
    "💡 Exercise 5: Reshaping Practice\n",
    "\n",
    "🔹 Reshape a 1D array of 20 elements into a 4x5 matrix.\n",
    "\n"
   ]
  },
  {
   "cell_type": "code",
   "execution_count": 37,
   "metadata": {},
   "outputs": [
    {
     "name": "stdout",
     "output_type": "stream",
     "text": [
      "Original Matrix: \n",
      " [ 1  2  3  4  5  6  7  8  9 10 11 12 13 14 15 16 17 18 19 20]\n",
      "Reshaped Matrix: \n",
      " [[ 1  2  3  4  5]\n",
      " [ 6  7  8  9 10]\n",
      " [11 12 13 14 15]\n",
      " [16 17 18 19 20]]\n"
     ]
    }
   ],
   "source": [
    "original_matrix = np.arange(1, 21)\n",
    "\n",
    "augmented_matrix = original_matrix.reshape(4, 5)\n",
    "\n",
    "print(\"Original Matrix: \\n\",original_matrix)\n",
    "print(\"Reshaped Matrix: \\n\", augmented_matrix)"
   ]
  }
 ],
 "metadata": {
  "kernelspec": {
   "display_name": "myenv",
   "language": "python",
   "name": "python3"
  },
  "language_info": {
   "codemirror_mode": {
    "name": "ipython",
    "version": 3
   },
   "file_extension": ".py",
   "mimetype": "text/x-python",
   "name": "python",
   "nbconvert_exporter": "python",
   "pygments_lexer": "ipython3",
   "version": "3.12.3"
  }
 },
 "nbformat": 4,
 "nbformat_minor": 2
}
