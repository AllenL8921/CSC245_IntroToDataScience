{
 "cells": [
  {
   "cell_type": "markdown",
   "id": "6f4103c6",
   "metadata": {},
   "source": []
  },
  {
   "cell_type": "markdown",
   "id": "2fed56ac",
   "metadata": {},
   "source": [
    "Construct a DataFrame with missing values in multiple columns. Explore use of isnull(), dropna(), fillna().\n"
   ]
  },
  {
   "cell_type": "code",
   "execution_count": null,
   "id": "e17f0268",
   "metadata": {},
   "outputs": [
    {
     "name": "stdout",
     "output_type": "stream",
     "text": [
      "      Name   Age         City  Score\n",
      "0    Alice  25.0     New York   85.5\n",
      "1      Bob   NaN         None   92.0\n",
      "2  Charlie  30.0  Los Angeles    NaN\n",
      "3    David  32.0    San Diego   88.0\n",
      "4     None  29.0      Chicago    NaN\n",
      "    Name    Age   City  Score\n",
      "0  False  False  False  False\n",
      "1  False   True   True  False\n",
      "2  False  False  False   True\n",
      "3  False  False  False  False\n",
      "4   True  False  False   True\n",
      "    Name   Age       City  Score\n",
      "0  Alice  25.0   New York   85.5\n",
      "3  David  32.0  San Diego   88.0\n",
      "      Name   Age          City  Score\n",
      "0    Alice  25.0      New York   85.5\n",
      "1      Bob  29.0  Unknown City   92.0\n",
      "2  Charlie  30.0   Los Angeles   88.0\n",
      "3    David  32.0     San Diego   88.0\n",
      "4  Unknown  29.0       Chicago   88.0\n"
     ]
    }
   ],
   "source": [
    "import numpy as np\n",
    "import pandas as pd\n",
    "\n",
    "name_score_data = {   \n",
    "        \"Name\": ['Alice', 'Bob', 'Charlie', 'David', None],\n",
    "        'Age': [25, np.nan, 30, 32, 29],\n",
    "        'City': ['New York', None, 'Los Angeles', 'San Diego', 'Chicago'],\n",
    "        'Score': [85.5, 92.0, np.nan, 88.0, None]\n",
    "        }\n",
    "\n",
    "df = pd.DataFrame(name_score_data)\n",
    "print(df)\n",
    "print(df.isnull())\n",
    "\n",
    "df_no_na = df.dropna()\n",
    "print(df_no_na)\n",
    "\n",
    "df_filled = df.fillna({\n",
    "    'Name': 'Unknown', \n",
    "    'Age' : df['Age'].mean(),\n",
    "    'City': 'Unknown City', \n",
    "    'Score': df['Score'].median()\n",
    "})\n",
    "print(df_filled)"
   ]
  },
  {
   "cell_type": "markdown",
   "id": "3809396f",
   "metadata": {},
   "source": [
    "\n",
    "Demonstrate forward fill, backward fill, and interpolation for time-indexed data.\n"
   ]
  },
  {
   "cell_type": "code",
   "execution_count": 11,
   "id": "917c6199",
   "metadata": {},
   "outputs": [
    {
     "name": "stdout",
     "output_type": "stream",
     "text": [
      "            Temperature\n",
      "2025-04-11         30.0\n",
      "2025-04-12          NaN\n",
      "2025-04-13         32.0\n",
      "2025-04-14          NaN\n",
      "2025-04-15          NaN\n",
      "2025-04-16         35.0\n",
      "2025-04-17         36.0\n",
      "2025-04-18         38.0\n",
      "2025-04-19         42.0\n",
      "2025-04-20          NaN\n",
      "2025-04-21         42.0\n",
      "            Temperature\n",
      "2025-04-11         30.0\n",
      "2025-04-12         30.0\n",
      "2025-04-13         32.0\n",
      "2025-04-14         32.0\n",
      "2025-04-15         32.0\n",
      "2025-04-16         35.0\n",
      "2025-04-17         36.0\n",
      "2025-04-18         38.0\n",
      "2025-04-19         42.0\n",
      "2025-04-20         42.0\n",
      "2025-04-21         42.0\n",
      "            Temperature\n",
      "2025-04-11         30.0\n",
      "2025-04-12         32.0\n",
      "2025-04-13         32.0\n",
      "2025-04-14         35.0\n",
      "2025-04-15         35.0\n",
      "2025-04-16         35.0\n",
      "2025-04-17         36.0\n",
      "2025-04-18         38.0\n",
      "2025-04-19         42.0\n",
      "2025-04-20         42.0\n",
      "2025-04-21         42.0\n",
      "            Temperature\n",
      "2025-04-11         30.0\n",
      "2025-04-12         31.0\n",
      "2025-04-13         32.0\n",
      "2025-04-14         33.0\n",
      "2025-04-15         34.0\n",
      "2025-04-16         35.0\n",
      "2025-04-17         36.0\n",
      "2025-04-18         38.0\n",
      "2025-04-19         42.0\n",
      "2025-04-20         42.0\n",
      "2025-04-21         42.0\n"
     ]
    }
   ],
   "source": [
    "import pandas as pd\n",
    "import numpy as np\n",
    "\n",
    "date = pd.date_range(start=\"4/11/2025\", end=\"4/21/2025\", freq='D')\n",
    "\n",
    "data = {\n",
    "    'Temperature': [30, np.nan, 32, np.nan, np.nan,35, 36, 38, 42, np.nan, 42 ]\n",
    "}\n",
    "\n",
    "df = pd.DataFrame(data, index=date)\n",
    "print(df)\n",
    "\n",
    "df_ffill = df.ffill()\n",
    "print(df_ffill)\n",
    "\n",
    "df_bfill = df.bfill()\n",
    "print(df_bfill)\n",
    "\n",
    "df_interp = df.interpolate()\n",
    "print(df_interp)\n"
   ]
  },
  {
   "cell_type": "markdown",
   "id": "ef1c81e3",
   "metadata": {},
   "source": [
    "\n",
    "Drop rows where a subset of columns have missing values.\n"
   ]
  },
  {
   "cell_type": "code",
   "execution_count": 12,
   "id": "f85fe615",
   "metadata": {},
   "outputs": [
    {
     "name": "stdout",
     "output_type": "stream",
     "text": [
      "    Name   Age      City  Score\n",
      "0  Alice  25.0  New York   85.5\n",
      "1    Bob   NaN      None   92.0\n",
      "3  David  22.0   Chicago   88.0\n"
     ]
    }
   ],
   "source": [
    "import pandas as pd\n",
    "import numpy as np\n",
    "\n",
    "# Sample DataFrame\n",
    "data = {\n",
    "    'Name': ['Alice', 'Bob', 'Charlie', 'David', None],\n",
    "    'Age': [25, np.nan, 30, 22, 29],\n",
    "    'City': ['New York', None, 'Los Angeles', 'Chicago', 'Houston'],\n",
    "    'Score': [85.5, 92.0, np.nan, 88.0, None]\n",
    "}\n",
    "df = pd.DataFrame(data)\n",
    "\n",
    "df_subset_dropped = df.dropna(subset=['Name', 'Score'])\n",
    "print(df_subset_dropped)\n"
   ]
  },
  {
   "cell_type": "markdown",
   "id": "cd5244c6",
   "metadata": {},
   "source": [
    "\n",
    "Create a function that uses different fill strategies based on column dtype.\n"
   ]
  },
  {
   "cell_type": "code",
   "execution_count": null,
   "id": "adfd3e81",
   "metadata": {},
   "outputs": [],
   "source": [
    "def smart_fill(df):\n",
    "    filled_copy = df.copy()\n",
    "\n",
    "    for col in filled_copy:\n",
    "        if filled_copy[col].dtype == 'object':\n",
    "            # Object\n",
    "            filled_copy[col] = filled_copy[col].fillna(filled_copy[col].mode[0])\n",
    "        elif np.issubdtype(filled_copy[col].dtype, np.number):\n",
    "            # Numerical Data\n",
    "            filled_copy[col] = filled_copy[col].fillna(filled_copy[col].median())\n",
    "        else:\n",
    "            filled_copy[col] = filled_copy[col].fillna(method='fflll')\n",
    "    \n",
    "    return filled_copy"
   ]
  },
  {
   "cell_type": "markdown",
   "id": "2e0b284a",
   "metadata": {},
   "source": [
    "\n",
    "Evaluate how missing data affects statistical summaries and plotting.\n",
    "\n"
   ]
  },
  {
   "cell_type": "code",
   "execution_count": 13,
   "id": "cbbc6109",
   "metadata": {},
   "outputs": [
    {
     "name": "stdout",
     "output_type": "stream",
     "text": [
      "Original:\n",
      "              Age      Score\n",
      "count   4.000000   3.000000\n",
      "mean   26.500000  88.500000\n",
      "std     3.696846   3.278719\n",
      "min    22.000000  85.500000\n",
      "25%    24.250000  86.750000\n",
      "50%    27.000000  88.000000\n",
      "75%    29.250000  90.000000\n",
      "max    30.000000  92.000000\n",
      "\n",
      "Filled:\n",
      "             Age      Score\n",
      "count   5.00000   5.000000\n",
      "mean   29.00000  88.300000\n",
      "std     2.54951   2.334524\n",
      "min    25.00000  85.500000\n",
      "25%    29.00000  88.000000\n",
      "50%    29.00000  88.000000\n",
      "75%    30.00000  88.000000\n",
      "max    32.00000  92.000000\n"
     ]
    }
   ],
   "source": [
    "# With missing values\n",
    "print(\"Original:\\n\", df.describe())\n",
    "\n",
    "# After filling\n",
    "print(\"\\nFilled:\\n\", df_filled.describe())\n"
   ]
  },
  {
   "cell_type": "code",
   "execution_count": null,
   "id": "8b32a1c4",
   "metadata": {},
   "outputs": [],
   "source": []
  },
  {
   "cell_type": "markdown",
   "id": "04e76c05",
   "metadata": {},
   "source": [
    "Section – Hierarchical Indexing\n"
   ]
  },
  {
   "cell_type": "markdown",
   "id": "5a35b1e8",
   "metadata": {},
   "source": [
    "Create a MultiIndex from tuples and build a DataFrame indexed by it.\n"
   ]
  },
  {
   "cell_type": "code",
   "execution_count": null,
   "id": "beda4f13",
   "metadata": {},
   "outputs": [],
   "source": []
  },
  {
   "cell_type": "markdown",
   "id": "9beada08",
   "metadata": {},
   "source": [
    "\n",
    "Slice and filter across multiple levels of a MultiIndex.\n"
   ]
  },
  {
   "cell_type": "code",
   "execution_count": null,
   "id": "3f3d9771",
   "metadata": {},
   "outputs": [],
   "source": []
  },
  {
   "cell_type": "markdown",
   "id": "9fcda690",
   "metadata": {},
   "source": [
    "\n",
    "Swap and sort index levels using .swaplevel() and .sort_index().\n"
   ]
  },
  {
   "cell_type": "code",
   "execution_count": null,
   "id": "701bd38d",
   "metadata": {},
   "outputs": [],
   "source": []
  },
  {
   "cell_type": "markdown",
   "id": "f56cdc68",
   "metadata": {},
   "source": [
    "Unstack and stack data, then reshape it back to original.\n"
   ]
  },
  {
   "cell_type": "code",
   "execution_count": null,
   "id": "673b28bf",
   "metadata": {},
   "outputs": [],
   "source": []
  },
  {
   "cell_type": "markdown",
   "id": "743db224",
   "metadata": {},
   "source": [
    "\n",
    "Use .groupby(level=...) on hierarchical data and apply aggregation."
   ]
  },
  {
   "cell_type": "code",
   "execution_count": null,
   "id": "cde77ed6",
   "metadata": {},
   "outputs": [],
   "source": []
  }
 ],
 "metadata": {
  "kernelspec": {
   "display_name": "Python 3",
   "language": "python",
   "name": "python3"
  },
  "language_info": {
   "codemirror_mode": {
    "name": "ipython",
    "version": 3
   },
   "file_extension": ".py",
   "mimetype": "text/x-python",
   "name": "python",
   "nbconvert_exporter": "python",
   "pygments_lexer": "ipython3",
   "version": "3.10.11"
  }
 },
 "nbformat": 4,
 "nbformat_minor": 5
}
