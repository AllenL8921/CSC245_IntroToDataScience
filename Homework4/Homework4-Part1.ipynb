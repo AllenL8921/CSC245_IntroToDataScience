{
 "cells": [
  {
   "cell_type": "markdown",
   "metadata": {},
   "source": [
    "Basic Function (2 points)\n",
    "\n",
    "Write a function add_numbers that takes two numbers and returns their sum. Implement this using both a regular function and a lambda function.\n",
    "\n",
    "Test your function with add_numbers(3, 5) and add_lambda(3, 5).\n"
   ]
  },
  {
   "cell_type": "code",
   "execution_count": null,
   "metadata": {},
   "outputs": [
    {
     "name": "stdout",
     "output_type": "stream",
     "text": [
      "Basic Function \n",
      "\n",
      "8\n",
      "8\n"
     ]
    }
   ],
   "source": [
    "def add_numbers(num1, num2):\n",
    "    return num1 + num2\n",
    "\n",
    "# Lambda\n",
    "add_lambda = lambda num1, num2 : num1 + num2\n",
    "\n",
    "print(\"Basic Function\")\n",
    "print(add_numbers(3, 5))\n",
    "print(add_lambda(3, 5))"
   ]
  },
  {
   "cell_type": "markdown",
   "metadata": {},
   "source": [
    "Flexible Function (2 points)\n",
    "Modify join_words to accept an arbitrary number of words and return them concatenated into a single string with spaces. \n",
    "Implement this using both a regular function and a lambda function.\n",
    "\n",
    "Test it with join_words(\"Hello\", \"world\", \"!\").\n"
   ]
  },
  {
   "cell_type": "code",
   "execution_count": 1,
   "metadata": {},
   "outputs": [
    {
     "name": "stdout",
     "output_type": "stream",
     "text": [
      "Flexible Functions \n",
      "\n",
      "Hello world !\n"
     ]
    }
   ],
   "source": [
    "def join_words(*words):\n",
    "    return \" \".join(words)\n",
    "\n",
    "print(\"Flexible Functions \\n\")\n",
    "join_words = lambda *words : \" \".join(words)\n",
    "print(join_words(\"Hello\", \"world\", \"!\"))\n"
   ]
  },
  {
   "cell_type": "markdown",
   "metadata": {},
   "source": [
    "Recursive Function (2 points)\n",
    "Write a recursive function countdown(n) that prints numbers from n to 0. Test it with countdown(5).\n"
   ]
  },
  {
   "cell_type": "code",
   "execution_count": null,
   "metadata": {},
   "outputs": [],
   "source": [
    "def countdown(n):\n",
    "    if n < 0:\n",
    "        return\n",
    "    \n",
    "    print(n)\n",
    "    return countdown(n-1)\n",
    "\n",
    "print(\"Recursive Function \\n\")\n",
    "countdown(5)"
   ]
  },
  {
   "cell_type": "markdown",
   "metadata": {},
   "source": [
    "Normal Function Usage (2 points)\n",
    "Write a function greet that takes a name as input and returns a greeting message. Implement this as a normal function.\n",
    "\n",
    "Test it with greet(\"Alice\").\n"
   ]
  },
  {
   "cell_type": "code",
   "execution_count": 2,
   "metadata": {},
   "outputs": [
    {
     "name": "stdout",
     "output_type": "stream",
     "text": [
      "Normal Function Usage \n",
      "\n",
      "Hello Alice\n"
     ]
    }
   ],
   "source": [
    "def greet(name):\n",
    "    return \"Hello \" + name\n",
    "\n",
    "print(\"Normal Function Usage \\n\")\n",
    "print(greet(\"Alice\"))"
   ]
  },
  {
   "cell_type": "markdown",
   "metadata": {},
   "source": [
    "Function with Default Arguments (2 points)\n",
    "Write a function repeat_phrase that repeats a phrase a given number of times, with a default of 2.\n",
    "\n",
    "Test it with repeat_phrase(\"Hi! \") and repeat_phrase(\"Hi! \", 3).\n"
   ]
  },
  {
   "cell_type": "code",
   "execution_count": null,
   "metadata": {},
   "outputs": [],
   "source": [
    "def repeat_phrase(phrase, n):\n",
    "    for i in range(0, n):\n",
    "        print(phrase)\n",
    "\n",
    "print(\"Function with Default Arguments \\n\")\n",
    "repeat_phrase(\"Hi! \", 3)\n"
   ]
  },
  {
   "cell_type": "markdown",
   "metadata": {},
   "source": [
    "Higher-Order Function (2 points)\n",
    "Write a function apply_function that takes a function and a value as arguments and applies the function to the value.\n",
    "\n",
    "Test it with apply_function(lambda x: x.upper(), \"hello\").\n"
   ]
  },
  {
   "cell_type": "code",
   "execution_count": null,
   "metadata": {},
   "outputs": [],
   "source": [
    "def apply_function(func, value):\n",
    "    return func(value)\n",
    "\n",
    "print(\"Higher-Order Function \\n\")\n",
    "print(apply_function(lambda x: x.upper(), \"hello\"))"
   ]
  }
 ],
 "metadata": {
  "kernelspec": {
   "display_name": "myenv",
   "language": "python",
   "name": "python3"
  },
  "language_info": {
   "codemirror_mode": {
    "name": "ipython",
    "version": 3
   },
   "file_extension": ".py",
   "mimetype": "text/x-python",
   "name": "python",
   "nbconvert_exporter": "python",
   "pygments_lexer": "ipython3",
   "version": "3.12.3"
  }
 },
 "nbformat": 4,
 "nbformat_minor": 2
}
