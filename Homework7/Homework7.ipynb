{
 "cells": [
  {
   "cell_type": "markdown",
   "metadata": {},
   "source": [
    "Boolean Masks: Generate 100 random numbers, find numbers divisible by 3, and replace them with -1."
   ]
  },
  {
   "cell_type": "code",
   "execution_count": 11,
   "metadata": {},
   "outputs": [
    {
     "name": "stdout",
     "output_type": "stream",
     "text": [
      "Before Mask: \n",
      " [36 89  4 19 42 65 69  2  7 80 87 25 61 77 54 36 75 47 67  4 17 85 25  8\n",
      " 65 34 90  3 94 87 77 79 37  8 69 61 56 72 41 21 44 36 96  1  1 11 37 54\n",
      " 47 67 30 85 59 95  7 47 59 23 37 67 85 95 79 90 26 75 20 92  4 61 76 18\n",
      " 63 91 99 80 89 77 53 26 95  3 80 72 34 24 50 63 77 41 17 65 78 16 22 78\n",
      " 78 24 21  5]\n",
      "\n",
      " After Mask: \n",
      " [-1 89  4 19 -1 65 -1  2  7 80 -1 25 61 77 -1 -1 -1 47 67  4 17 85 25  8\n",
      " 65 34 -1 -1 94 -1 77 79 37  8 -1 61 56 -1 41 -1 44 -1 -1  1  1 11 37 -1\n",
      " 47 67 -1 85 59 95  7 47 59 23 37 67 85 95 79 -1 26 -1 20 92  4 61 76 -1\n",
      " -1 91 -1 80 89 77 53 26 95 -1 80 -1 34 -1 50 -1 77 41 17 65 -1 16 22 -1\n",
      " -1 -1 -1  5]\n"
     ]
    }
   ],
   "source": [
    "import numpy as np\n",
    "\n",
    "# Generate 100 random numbers\n",
    "rand_nums = np.random.randint(1, 101, 100)\n",
    "\n",
    "print(\"Before Mask: \\n\", rand_nums)\n",
    "\n",
    "# Create boolean mask to find numbers divisible by 3\n",
    "mask = rand_nums % 3 == 0\n",
    "\n",
    "# Replace the numbers divisible by 3 with -1\n",
    "rand_nums[mask] = -1\n",
    "\n",
    "print(\"\\n\", \"After Mask: \\n\", rand_nums)"
   ]
  },
  {
   "cell_type": "markdown",
   "metadata": {},
   "source": [
    "Fancy Indexing: Extract every alternate row from a 5×5 matrix."
   ]
  },
  {
   "cell_type": "code",
   "execution_count": 13,
   "metadata": {},
   "outputs": [
    {
     "name": "stdout",
     "output_type": "stream",
     "text": [
      "Full Array: \n",
      " [[ 1  2  3  4  5]\n",
      " [ 6  7  8  9 10]\n",
      " [11 12 13 14 15]\n",
      " [16 17 18 19 20]\n",
      " [21 22 23 24 25]]\n",
      "\n",
      " [[ 1  2  3  4  5]\n",
      " [11 12 13 14 15]\n",
      " [21 22 23 24 25]]\n"
     ]
    }
   ],
   "source": [
    "\n",
    "# Generate numbers 1-25 in a 5x5 matrix\n",
    "nums = np.arange(1, 26).reshape(5, 5)\n",
    "print(\"Full Array: \\n\", nums)\n",
    "\n",
    "# Extract alternating rows by changing the step index\n",
    "\n",
    "print(\"\\n\", nums[::2])"
   ]
  },
  {
   "cell_type": "markdown",
   "metadata": {},
   "source": [
    "Sorting: Generate a 10×10 matrix and sort by first column."
   ]
  },
  {
   "cell_type": "code",
   "execution_count": 25,
   "metadata": {},
   "outputs": [
    {
     "name": "stdout",
     "output_type": "stream",
     "text": [
      "Full Array: \n",
      " [[96 43 19 54 38 40 11 22 47 98]\n",
      " [59 32 25 89 45 77 16 46 92 74]\n",
      " [69 46 71 28 14 78 73  9 98 65]\n",
      " [70 17 80 53 37 16 90 14 69 50]\n",
      " [ 8 49 49  7 93 63 15 70 45 57]\n",
      " [47 37 23 77 11 54 56 40  6 90]\n",
      " [26 44 41 11 65 85 90 31 51 71]\n",
      " [33 71 90 50 59 52 86 13 27 92]\n",
      " [41 38 29 45 50 13 66  8 86  5]\n",
      " [78 34 33 63 48 57 23 30 43 37]]\n",
      "Sorted Column: \n",
      " [[ 8 49 49  7 93 63 15 70 45 57]\n",
      " [26 44 41 11 65 85 90 31 51 71]\n",
      " [33 71 90 50 59 52 86 13 27 92]\n",
      " [41 38 29 45 50 13 66  8 86  5]\n",
      " [47 37 23 77 11 54 56 40  6 90]\n",
      " [59 32 25 89 45 77 16 46 92 74]\n",
      " [69 46 71 28 14 78 73  9 98 65]\n",
      " [70 17 80 53 37 16 90 14 69 50]\n",
      " [78 34 33 63 48 57 23 30 43 37]\n",
      " [96 43 19 54 38 40 11 22 47 98]]\n"
     ]
    }
   ],
   "source": [
    "# Generate 100 random numbers in a 10x10 array\n",
    "nums = np.random.randint(1, 101, (10,10))\n",
    "\n",
    "print(\"Full Array: \\n\", nums)\n",
    "\n",
    "sorted_col = nums[nums[:, 0].argsort()]\n",
    "\n",
    "print(\"Sorted Column: \\n\", sorted_col)"
   ]
  },
  {
   "cell_type": "markdown",
   "metadata": {},
   "source": [
    "4.Objective:\n",
    "Use NumPy to analyze rainfall data and extract meaningful insights using Boolean masking, fancy indexing, sorting, and structured arrays.\n",
    "\n",
    "Dataset:\n",
    "You are provided with an array representing daily rainfall (in mm) over a year in a fictional city:\n",
    "\n",
    "import numpy as np\n",
    "\n",
    "np.random.seed(42)\n",
    "\n",
    "rainfall = np.random.gamma(shape=2.0, scale=2.0, size=365)  # Synthetic daily rainfall data\n",
    "\n",
    "rainfall[np.random.choice(365, 100, replace=False)] = 0  # 100 dry days"
   ]
  },
  {
   "cell_type": "code",
   "execution_count": 29,
   "metadata": {},
   "outputs": [
    {
     "data": {
      "text/plain": [
       "array([ 0.        ,  2.98892946,  0.        ,  2.76460459,  0.        ,\n",
       "        0.        ,  2.262156  ,  4.93962895,  3.99792053,  0.43182989,\n",
       "        1.34248457,  4.21233127,  0.        ,  2.78370437,  2.11605488,\n",
       "        3.62801508,  2.01056896,  2.63548276,  3.29860496,  1.28027461,\n",
       "        5.94012019,  1.07036289,  0.94558689,  3.86790084,  5.62670762,\n",
       "        3.79567115,  3.04355835,  0.        ,  2.27981966,  0.        ,\n",
       "        4.24208788,  2.43463763,  1.87321306,  5.17523791,  6.76688335,\n",
       "        6.36241956,  1.6020941 ,  0.        ,  2.24286994,  2.87657623,\n",
       "        5.90217705,  8.20452491,  0.        ,  1.92968925,  0.        ,\n",
       "        9.22507907,  3.5631772 ,  0.        ,  2.79770522,  0.        ,\n",
       "        1.65126347,  0.        ,  6.29954479,  4.25625523,  3.59032168,\n",
       "        6.51202713,  1.82937157,  0.        ,  4.15786061,  0.        ,\n",
       "        0.85169115,  2.36092283,  2.93399674,  4.48921108,  0.        ,\n",
       "        0.        ,  0.42821016,  0.        ,  3.49127806, 14.59599558,\n",
       "        2.86091955,  4.17411904,  7.24042552,  5.67614539,  8.42560916,\n",
       "        0.86582444,  0.        ,  2.07453409,  0.        ,  3.51351459,\n",
       "        1.47835542,  9.15041749,  1.69240176,  2.56900644,  5.90592432,\n",
       "        1.05827611,  0.66716633,  3.83314349,  4.05038097,  5.78690928,\n",
       "        0.        ,  4.16044734,  0.        ,  0.        ,  4.14874852,\n",
       "        1.80816859, 10.84415104,  4.71254714,  1.39692349,  5.80655581,\n",
       "        6.49079028,  4.5167567 ,  2.73903968,  1.74137069,  3.13819439,\n",
       "        4.29405189,  3.3670169 ,  8.67105443,  5.22382567,  1.57384011,\n",
       "        1.26237531,  4.74070223,  2.78900505,  5.53762429,  4.71061126,\n",
       "        0.        ,  1.59012136,  0.75239945,  3.91724148,  1.04050307,\n",
       "        0.        ,  3.74621256,  0.        ,  0.        ,  0.        ,\n",
       "        0.        ,  0.        ,  4.84368891,  4.84786958,  6.45311989,\n",
       "        5.31395072,  1.70959562,  0.        , 13.5930644 ,  0.        ,\n",
       "        2.25725942,  0.        ,  1.80653365,  5.41395858,  0.        ,\n",
       "        1.91808983,  0.        ,  0.        ,  1.67721864,  3.04577475,\n",
       "        4.81460194,  6.1056246 ,  2.25126471,  1.91500323,  1.02261216,\n",
       "        6.30925814, 12.36345195,  6.77295277,  7.79120211,  0.        ,\n",
       "        4.61560333,  0.        ,  1.32627719,  9.57430429,  0.        ,\n",
       "        8.61131403,  0.83056426,  0.        ,  4.67450099,  3.51682928,\n",
       "        2.43415327,  9.33428761,  1.04994538,  0.        ,  5.09479018,\n",
       "        0.        ,  1.97017914,  2.03142117,  6.04339984,  6.23738264,\n",
       "        0.        ,  1.61834387,  2.08606778,  3.27965638,  3.64554115,\n",
       "        4.95487224,  2.83805445,  0.        ,  5.90589566,  0.        ,\n",
       "        3.38785966,  0.        ,  3.00847041,  1.63558937, 12.18019244,\n",
       "        0.        ,  0.        ,  0.        ,  1.51189621,  6.53818782,\n",
       "        2.96786758,  4.51723264,  2.0793809 ,  4.0066835 ,  0.        ,\n",
       "        2.25903904,  3.96909876,  0.        ,  0.85993816,  0.        ,\n",
       "        2.81203031,  6.07438583,  2.93719263,  3.28576075,  2.64218909,\n",
       "        4.23794906,  0.        ,  0.        ,  4.48184959,  3.94606162,\n",
       "        0.        ,  0.        ,  4.79158065,  0.        ,  0.        ,\n",
       "        0.        ,  1.65157922,  0.30702699,  2.15178002,  0.        ,\n",
       "       10.90319363,  0.        ,  0.        ,  0.95447989,  0.        ,\n",
       "        7.40015962,  2.26275172,  8.19338558,  3.04625275,  0.        ,\n",
       "        3.34689085,  3.45611411,  2.30107776,  5.21401708,  3.65368256,\n",
       "        4.84585189,  0.73410748,  0.        ,  9.15658232,  0.        ,\n",
       "       11.98741328, 10.23008331,  5.29278368,  8.26298926,  6.8810485 ,\n",
       "        0.5422594 ,  2.68499264,  5.55046155,  0.        ,  0.88888784,\n",
       "        0.58597814,  3.19195699,  0.33772569,  3.10848069,  0.        ,\n",
       "        0.        ,  3.17410158,  6.45769535,  2.14310815,  0.        ,\n",
       "        3.06454878,  1.31117341,  0.        ,  3.42521496,  0.        ,\n",
       "        0.        ,  3.05163396,  0.        ,  0.        ,  0.        ,\n",
       "        0.        ,  8.25468137,  0.        ,  4.20329231,  3.01384004,\n",
       "        0.        ,  1.73699546,  0.        ,  1.92708428,  1.24802871,\n",
       "        9.86269307,  6.16723001,  3.53711459,  0.        ,  1.30839777,\n",
       "        2.86563786,  6.34216866,  0.        ,  5.00844077,  1.9198012 ,\n",
       "        2.22714279,  0.        ,  1.61522757,  2.75365344,  0.        ,\n",
       "        0.        ,  5.6888876 ,  3.59644242,  5.67413565,  1.89846632,\n",
       "        5.03432742,  0.64960109,  3.45903595,  5.26898101,  0.62055611,\n",
       "        1.91766873,  3.45722004,  6.66512123,  2.05465839,  0.        ,\n",
       "        8.61274979,  0.        ,  2.83607704,  4.38639413,  0.        ,\n",
       "        3.56194298,  2.94731689,  0.        ,  0.        ,  4.45905419,\n",
       "        2.36022708,  6.12640315,  2.56041676,  0.35444578,  1.34917694,\n",
       "        3.3811159 ,  0.        ,  5.9661957 ,  0.26333936,  0.        ,\n",
       "        0.        ,  5.24864899,  0.        ,  2.28238189,  1.58531728,\n",
       "        3.52155208,  2.24587849,  6.79399437,  2.18227588,  2.68394644,\n",
       "        0.        ,  5.69477985,  1.47424322,  4.51882469, 10.90674978,\n",
       "        0.        ,  8.88032336,  4.1097233 ,  1.19001451,  3.62384274,\n",
       "        0.        ,  0.        ,  4.70486079,  0.        ,  2.17994203,\n",
       "        1.37545642,  3.01898694,  0.        ,  7.03185982,  2.94177668])"
      ]
     },
     "execution_count": 29,
     "metadata": {},
     "output_type": "execute_result"
    }
   ],
   "source": [
    "import numpy as np\n",
    "\n",
    "np.random.seed(42)\n",
    "\n",
    "rainfall = np.random.gamma(shape=2.0, scale=2.0, size=365)  # Synthetic daily rainfall data\n",
    "\n",
    "rainfall[np.random.choice(365, 100, replace=False)] = 0  # 100 dry days\n",
    "\n",
    "rainfall"
   ]
  },
  {
   "cell_type": "markdown",
   "metadata": {},
   "source": [
    "1. Boolean Arrays & Masks (Section 2.06)\n",
    "Basic Rainy Day Count:\n",
    "\n",
    "Use a Boolean mask to find how many days had rain (i.e., rainfall > 0 mm)."
   ]
  },
  {
   "cell_type": "code",
   "execution_count": 32,
   "metadata": {},
   "outputs": [
    {
     "name": "stdout",
     "output_type": "stream",
     "text": [
      "265 days\n"
     ]
    }
   ],
   "source": [
    "\n",
    "rainy_days_mask  = rainfall > 0\n",
    "\n",
    "rainy_days_count = np.sum(rainy_days_mask)\n",
    "\n",
    "print(rainy_days_count, \"days\")"
   ]
  },
  {
   "cell_type": "markdown",
   "metadata": {},
   "source": [
    "Heavy Rain Days:\n",
    "\n",
    "Find the percentage of days where rainfall exceeded 5 mm.\n"
   ]
  },
  {
   "cell_type": "code",
   "execution_count": 37,
   "metadata": {},
   "outputs": [
    {
     "name": "stdout",
     "output_type": "stream",
     "text": [
      "20.0 %\n"
     ]
    }
   ],
   "source": [
    "# Get the number of heavy rainfall days\n",
    "heavyrain_mask = rainfall > 5\n",
    "\n",
    "# Calculate the percentage of heavy rainfall days\n",
    "heavyrain_ntile = np.mean(heavyrain_mask)\n",
    "\n",
    "print(heavyrain_ntile * 100, \"%\")"
   ]
  },
  {
   "cell_type": "markdown",
   "metadata": {},
   "source": [
    "Dry Spells:\n",
    "\n",
    "Find the longest consecutive sequence of dry days (rainfall == 0)."
   ]
  },
  {
   "cell_type": "code",
   "execution_count": 42,
   "metadata": {},
   "outputs": [
    {
     "name": "stdout",
     "output_type": "stream",
     "text": [
      "5 dry days in a row.\n"
     ]
    }
   ],
   "source": [
    "dry_days_mask = rainfall == 0\n",
    "\n",
    "longest_dry_days = 0\n",
    "current_dry_streak = 0\n",
    "\n",
    "for day in dry_days_mask:\n",
    "    if day: # Since dry days in the mask are 1, this will be true\n",
    "        current_dry_streak += 1\n",
    "        # Update the longest streak if the current streak is longer\n",
    "        longest_dry_days = max(longest_dry_days, current_dry_streak)\n",
    "    else: \n",
    "        # We encountered a day in which it rained, reset the streak to 0\n",
    "        current_dry_streak = 0\n",
    "    \n",
    "print(longest_dry_days, \"dry days in a row.\")\n"
   ]
  },
  {
   "cell_type": "markdown",
   "metadata": {},
   "source": [
    "2. Fancy Indexing (Section 2.07)\n",
    "Top Rainfall Days:\n",
    "\n",
    "Find the 10 wettest days of the year using fancy indexing."
   ]
  },
  {
   "cell_type": "code",
   "execution_count": null,
   "metadata": {},
   "outputs": [
    {
     "name": "stdout",
     "output_type": "stream",
     "text": [
      "[14.59599558 13.5930644  12.36345195 12.18019244 11.98741328 10.90674978\n",
      " 10.90319363 10.84415104 10.23008331  9.86269307]\n"
     ]
    }
   ],
   "source": [
    "sorted_indices = np.argsort(rainfall)[::-1]  # Sort in descending order\n",
    "rainiest_days = rainfall[sorted_indices[:10]] # Extract the values from the sorted indices\n",
    "\n",
    "print(rainiest_days)"
   ]
  },
  {
   "cell_type": "markdown",
   "metadata": {},
   "source": [
    "\n",
    "Monthly Averages:\n",
    "\n",
    "Assume the data starts on January 1st. Compute the average monthly rainfall using fancy indexing.\n"
   ]
  },
  {
   "cell_type": "code",
   "execution_count": 59,
   "metadata": {},
   "outputs": [
    {
     "name": "stdout",
     "output_type": "stream",
     "text": [
      "Month 0: 2.31 mm\n",
      "Month 1: 3.19 mm\n",
      "Month 2: 3.23 mm\n",
      "Month 3: 3.37 mm\n",
      "Month 4: 2.55 mm\n",
      "Month 5: 3.66 mm\n",
      "Month 6: 2.57 mm\n",
      "Month 7: 2.38 mm\n",
      "Month 8: 3.04 mm\n",
      "Month 9: 2.55 mm\n",
      "Month 10: 2.67 mm\n",
      "Month 11: 2.85 mm\n"
     ]
    }
   ],
   "source": [
    "# Array that contains the # of days in a month from January->December\n",
    "days_in_month = np.array([31, 28, 31, 30, 31, 30, 31, 31, 30, 31, 30, 31])\n",
    "monthly_averages = []\n",
    "\n",
    "start_idx = 0\n",
    "\n",
    "for days_this_month in days_in_month:\n",
    "    end_idx = start_idx + days_this_month # Determine the ending index that count towards this month\n",
    "    month_rainfall = rainfall[start_idx:end_idx] # Splice from start of the month to the end\n",
    "    monthly_averages.append(np.mean(month_rainfall)) # Calculate the average for this month\n",
    "    start_idx = end_idx # Update to point to the start of the next month\n",
    "\n",
    "# Print resulting averages\n",
    "for idx, avg_rainfall in enumerate(monthly_averages):\n",
    "    print(f\"Month {idx}: {avg_rainfall:.2f} mm\")"
   ]
  },
  {
   "cell_type": "markdown",
   "metadata": {},
   "source": [
    "3. Sorting (Section 2.08)\n",
    "Sorting Rainfall Data:\n",
    "\n",
    "Sort the rainfall array in ascending order and find the median rainfall value.\n"
   ]
  },
  {
   "cell_type": "code",
   "execution_count": 94,
   "metadata": {},
   "outputs": [
    {
     "name": "stdout",
     "output_type": "stream",
     "text": [
      "Median: 49.45 mm\n"
     ]
    }
   ],
   "source": [
    "sorted_arr = np.sort(rainfall)\n",
    "median = np.median(sorted_arr)\n",
    "print(f\"Median: {median:.2f} mm\")"
   ]
  },
  {
   "cell_type": "markdown",
   "metadata": {},
   "source": [
    "Percentile Analysis:\n",
    "\n",
    "Find the 90th percentile of rainfall (i.e., the rainfall value above which only 10% of days occur).\n",
    "\n"
   ]
  },
  {
   "cell_type": "code",
   "execution_count": 64,
   "metadata": {},
   "outputs": [
    {
     "name": "stdout",
     "output_type": "stream",
     "text": [
      "The 90th percentile of rainfall is: 6.46 mm\n"
     ]
    }
   ],
   "source": [
    "percentile_90 = np.percentile(rainfall, 90)\n",
    "\n",
    "print(f\"The 90th percentile of rainfall is: {percentile_90:.2f} mm\")"
   ]
  },
  {
   "cell_type": "markdown",
   "metadata": {},
   "source": [
    "4. Structured Data (Section 2.09)\n",
    "Creating a Structured Array:\n",
    "\n",
    "    Create a structured NumPy array where each entry contains:\n",
    "\n",
    "        day (integer, 1 to 365)\n",
    "\n",
    "        rainfall (float, in mm)\n",
    "\n",
    "        is_rainy (Boolean, True if rainfall > 0)"
   ]
  },
  {
   "cell_type": "code",
   "execution_count": 67,
   "metadata": {},
   "outputs": [
    {
     "name": "stdout",
     "output_type": "stream",
     "text": [
      "[(  1, 25.54135   , 1) (  2, 26.07133   , 1) (  3,  6.925431  , 1)\n",
      " (  4, 95.98265   , 1) (  5, 47.82553   , 1) (  6, 89.58146   , 1)\n",
      " (  7, 32.22155   , 1) (  8, 12.523357  , 1) (  9, 47.433613  , 1)\n",
      " ( 10, 11.395663  , 1) ( 11, 48.60155   , 1) ( 12, 92.02972   , 1)\n",
      " ( 13, 52.076813  , 1) ( 14, 61.64997   , 1) ( 15, 15.663844  , 1)\n",
      " ( 16,  4.373563  , 1) ( 17, 11.080796  , 1) ( 18, 59.853157  , 1)\n",
      " ( 19,  9.50117   , 1) ( 20, 37.59929   , 1) ( 21, 55.009193  , 1)\n",
      " ( 22, 38.86528   , 1) ( 23, 16.36838   , 1) ( 24, 27.379131  , 1)\n",
      " ( 25, 92.83176   , 1) ( 26, 67.59823   , 1) ( 27, 49.604782  , 1)\n",
      " ( 28,  1.271489  , 1) ( 29, 99.24154   , 1) ( 30, 67.14549   , 1)\n",
      " ( 31, 31.692247  , 1) ( 32, 87.926865  , 1) ( 33, 25.843163  , 1)\n",
      " ( 34, 54.401657  , 1) ( 35, 63.607075  , 1) ( 36, 22.106337  , 1)\n",
      " ( 37, 97.83973   , 1) ( 38, 74.81919   , 1) ( 39, 55.781322  , 1)\n",
      " ( 40, 18.05946   , 1) ( 41,  5.385821  , 1) ( 42, 32.00598   , 1)\n",
      " ( 43, 75.31873   , 1) ( 44, 26.93313   , 1) ( 45, 53.955624  , 1)\n",
      " ( 46, 72.794716  , 1) ( 47, 10.794372  , 1) ( 48, 68.5298    , 1)\n",
      " ( 49,  9.187089  , 1) ( 50, 96.51298   , 1) ( 51, 48.839413  , 1)\n",
      " ( 52, 15.067611  , 1) ( 53, 34.238365  , 1) ( 54, 41.341644  , 1)\n",
      " ( 55, 75.818504  , 1) ( 56, 74.34238   , 1) ( 57, 61.19405   , 1)\n",
      " ( 58, 10.593071  , 1) ( 59, 15.156938  , 1) ( 60,  9.375692  , 1)\n",
      " ( 61, 57.717278  , 1) ( 62, 87.713844  , 1) ( 63, 43.38005   , 1)\n",
      " ( 64, 16.084818  , 1) ( 65, 55.804234  , 1) ( 66, 81.175224  , 1)\n",
      " ( 67, 74.1712    , 1) ( 68, 88.14508   , 1) ( 69, 27.790209  , 1)\n",
      " ( 70, 19.395388  , 1) ( 71, 87.98165   , 1) ( 72, 65.756035  , 1)\n",
      " ( 73, 31.092894  , 1) ( 74, 74.2348    , 1) ( 75, 81.51184   , 1)\n",
      " ( 76, 61.497826  , 1) ( 77, 68.788414  , 1) ( 78, 37.52599   , 1)\n",
      " ( 79, 53.869568  , 1) ( 80, 52.415916  , 1) ( 81, 84.80478   , 1)\n",
      " ( 82, 83.9964    , 1) ( 83, 83.26804   , 1) ( 84,  1.1031615 , 1)\n",
      " ( 85, 74.95455   , 1) ( 86, 75.86764   , 1) ( 87, 67.83788   , 1)\n",
      " ( 88, 75.626465  , 1) ( 89, 84.19704   , 1) ( 90, 47.031906  , 1)\n",
      " ( 91, 50.20502   , 1) ( 92, 12.471406  , 1) ( 93, 38.53759   , 1)\n",
      " ( 94, 64.33652   , 1) ( 95, 78.03998   , 1) ( 96, 21.72091   , 1)\n",
      " ( 97, 13.7822895 , 1) ( 98, 66.3042    , 1) ( 99,  0.18798836, 1)\n",
      " (100, 17.83726   , 1) (101,  2.907138  , 1) (102, 16.68851   , 1)\n",
      " (103, 18.131927  , 1) (104, 38.76736   , 1) (105, 40.23271   , 1)\n",
      " (106, 87.42625   , 1) (107, 51.01097   , 1) (108, 72.34048   , 1)\n",
      " (109, 10.413735  , 1) (110, 22.543875  , 1) (111, 70.29434   , 1)\n",
      " (112,  5.280396  , 1) (113, 48.659767  , 1) (114, 59.936897  , 1)\n",
      " (115, 60.214565  , 1) (116,  2.293281  , 1) (117, 32.2108    , 1)\n",
      " (118, 63.649067  , 1) (119, 14.899974  , 1) (120, 69.541565  , 1)\n",
      " (121, 74.59252   , 1) (122, 98.19692   , 1) (123, 20.9842    , 1)\n",
      " (124, 82.51307   , 1) (125, 52.02966   , 1) (126, 37.34626   , 1)\n",
      " (127, 12.237676  , 1) (128, 73.55056   , 1) (129, 23.58576   , 1)\n",
      " (130, 37.1422    , 1) (131,  6.254223  , 1) (132, 80.13669   , 1)\n",
      " (133, 76.65885   , 1) (134, 73.36158   , 1) (135, 29.944351  , 1)\n",
      " (136, 17.348007  , 1) (137, 63.755325  , 1) (138, 49.61664   , 1)\n",
      " (139, 17.825247  , 1) (140, 68.591125  , 1) (141, 99.11264   , 1)\n",
      " (142, 74.72196   , 1) (143, 73.99864   , 1) (144, 95.03127   , 1)\n",
      " (145, 20.293636  , 1) (146, 56.554996  , 1) (147, 97.96467   , 1)\n",
      " (148, 16.529411  , 1) (149, 70.02519   , 1) (150, 58.581013  , 1)\n",
      " (151, 58.64791   , 1) (152, 69.76706   , 1) (153, 92.96169   , 1)\n",
      " (154, 78.258194  , 1) (155,  5.6136103 , 1) (156, 85.272804  , 1)\n",
      " (157, 22.554132  , 1) (158, 37.691418  , 1) (159, 46.173283  , 1)\n",
      " (160, 48.0906    , 1) (161, 43.51804   , 1) (162, 93.73533   , 1)\n",
      " (163, 70.6019    , 1) (164, 63.117065  , 1) (165,  4.984203  , 1)\n",
      " (166, 90.391335  , 1) (167, 90.93902   , 1) (168, 78.02131   , 1)\n",
      " (169,  0.7029204 , 1) (170,  5.728025  , 1) (171, 22.52237   , 1)\n",
      " (172, 13.134941  , 1) (173, 39.883602  , 1) (174, 92.26231   , 1)\n",
      " (175, 47.206043  , 1) (176,  1.3402627 , 1) (177, 28.274569  , 1)\n",
      " (178,  4.459491  , 1) (179,  3.6287622 , 1) (180, 27.571985  , 1)\n",
      " (181, 27.561234  , 1) (182, 78.71266   , 1) (183, 97.48347   , 1)\n",
      " (184, 37.12071   , 1) (185, 42.888687  , 1) (186, 84.47894   , 1)\n",
      " (187, 26.813902  , 1) (188, 15.638181  , 1) (189, 85.30896   , 1)\n",
      " (190,  4.6500587 , 1) (191, 61.969944  , 1) (192, 56.199284  , 1)\n",
      " (193, 34.592045  , 1) (194, 31.518951  , 1) (195, 77.185776  , 1)\n",
      " (196,  8.642461  , 1) (197, 23.67843   , 1) (198, 73.24487   , 1)\n",
      " (199, 54.832058  , 1) (200, 12.7988205 , 1) (201, 88.21356   , 1)\n",
      " (202, 39.344784  , 1) (203, 82.786835  , 1) (204, 78.7713    , 1)\n",
      " (205, 62.442543  , 1) (206, 49.448112  , 1) (207, 97.955086  , 1)\n",
      " (208, 14.496508  , 1) (209, 72.51557   , 1) (210, 19.11907   , 1)\n",
      " (211, 33.82631   , 1) (212, 30.869875  , 1) (213, 94.7036    , 1)\n",
      " (214, 96.73562   , 1) (215, 18.301544  , 1) (216,  2.203516  , 1)\n",
      " (217, 72.0008    , 1) (218, 41.798992  , 1) (219,  8.884025  , 1)\n",
      " (220, 68.37541   , 1) (221, 54.51055   , 1) (222, 98.05168   , 1)\n",
      " (223, 22.74095   , 1) (224, 40.39779   , 1) (225, 54.25458   , 1)\n",
      " (226, 79.17      , 1) (227, 54.883865  , 1) (228, 61.290016  , 1)\n",
      " (229, 22.614706  , 1) (230, 84.69187   , 1) (231, 42.863056  , 1)\n",
      " (232, 14.095963  , 1) (233, 66.41879   , 1) (234, 21.609045  , 1)\n",
      " (235,  9.756251  , 1) (236, 86.19869   , 1) (237, 46.016228  , 1)\n",
      " (238, 74.92837   , 1) (239, 29.058756  , 1) (240, 78.697014  , 1)\n",
      " (241, 11.193593  , 1) (242, 35.597336  , 1) (243, 97.80618   , 1)\n",
      " (244, 79.39897   , 1) (245, 49.725594  , 1) (246, 33.97775   , 1)\n",
      " (247, 87.21357   , 1) (248, 54.484776  , 1) (249, 75.8425    , 1)\n",
      " (250, 75.41077   , 1) (251,  1.7945678 , 1) (252, 12.625379  , 1)\n",
      " (253, 65.96294   , 1) (254, 16.161982  , 1) (255, 25.549334  , 1)\n",
      " (256, 94.663795  , 1) (257, 56.018227  , 1) (258, 75.07295   , 1)\n",
      " (259, 55.798073  , 1) (260, 55.25136   , 1) (261,  9.415191  , 1)\n",
      " (262, 34.366318  , 1) (263, 28.24309   , 1) (264, 39.072838  , 1)\n",
      " (265, 79.83442   , 1) (266, 37.193268  , 1) (267, 45.16968   , 1)\n",
      " (268, 39.73814   , 1) (269,  9.340797  , 1) (270, 44.107216  , 1)\n",
      " (271, 19.560926  , 1) (272, 18.672329  , 1) (273,  9.40361   , 1)\n",
      " (274, 35.6671    , 1) (275, 75.74819   , 1) (276, 27.644169  , 1)\n",
      " (277, 31.234911  , 1) (278, 64.26746   , 1) (279, 19.584082  , 1)\n",
      " (280, 89.69579   , 1) (281, 52.01905   , 1) (282, 44.760296  , 1)\n",
      " (283, 55.78202   , 1) (284, 16.603432  , 1) (285, 61.347313  , 1)\n",
      " (286, 36.310074  , 1) (287, 89.718636  , 1) (288, 16.88542   , 1)\n",
      " (289, 50.70511   , 1) (290, 59.811264  , 1) (291,  3.33836   , 1)\n",
      " (292, 36.369312  , 1) (293, 73.26353   , 1) (294, 82.03775   , 1)\n",
      " (295, 31.3162    , 1) (296, 79.85933   , 1) (297, 96.77559   , 1)\n",
      " (298, 85.68739   , 1) (299, 11.764399  , 1) (300, 73.97303   , 1)\n",
      " (301, 31.966682  , 1) (302, 98.8416    , 1) (303, 48.5359    , 1)\n",
      " (304, 12.24339   , 1) (305, 72.518555  , 1) (306, 32.30112   , 1)\n",
      " (307, 99.70782   , 1) (308, 97.97825   , 1) (309, 65.6134    , 1)\n",
      " (310, 12.982645  , 1) (311, 68.6861    , 1) (312,  9.303049  , 1)\n",
      " (313,  2.936416  , 1) (314, 82.295845  , 1) (315, 20.975294  , 1)\n",
      " (316, 37.902714  , 1) (317, 97.34574   , 1) (318, 33.68405   , 1)\n",
      " (319, 29.648977  , 1) (320, 91.8208    , 1) (321, 11.074844  , 1)\n",
      " (322, 75.958244  , 1) (323, 98.80656   , 1) (324, 90.1296    , 1)\n",
      " (325, 65.166794  , 1) (326, 31.40608   , 1) (327, 25.432198  , 1)\n",
      " (328, 81.925514  , 1) (329, 87.98219   , 1) (330, 52.54349   , 1)\n",
      " (331, 24.433994  , 1) (332, 11.294321  , 1) (333,  8.717947  , 1)\n",
      " (334, 71.907745  , 1) (335, 42.01187   , 1) (336, 90.53599   , 1)\n",
      " (337, 73.96713   , 1) (338, 19.126041  , 1) (339, 61.377743  , 1)\n",
      " (340, 43.550545  , 1) (341, 57.72497   , 1) (342, 73.806915  , 1)\n",
      " (343, 80.61959   , 1) (344, 84.37373   , 1) (345, 25.397488  , 1)\n",
      " (346,  3.11156   , 1) (347, 73.929474  , 1) (348, 10.634373  , 1)\n",
      " (349, 31.491959  , 1) (350,  0.38171342, 1) (351, 68.16695   , 1)\n",
      " (352, 16.713202  , 1) (353, 65.528244  , 1) (354, 99.17426   , 1)\n",
      " (355,  7.267087  , 1) (356,  7.7078013 , 1) (357, 34.03801   , 1)\n",
      " (358, 86.63865   , 1) (359, 21.552986  , 1) (360, 36.03778   , 1)\n",
      " (361,  6.8505406 , 1) (362, 76.31553   , 1) (363, 40.830635  , 1)\n",
      " (364, 75.92487   , 1) (365, 90.36079   , 1)]\n"
     ]
    }
   ],
   "source": [
    "#day : integer4bytes\n",
    "#rainfall : float4bytes\n",
    "#is_rainy : boolean\n",
    "\n",
    "# Define the data\n",
    "dtype = [('day', 'i4'), ('rainfall', 'f4'), ('is_rainy', 'b')]\n",
    "\n",
    "# Generate data\n",
    "days = np.arange(1, 366)\n",
    "rainfall = np.random.uniform(0, 100, 365) # Generate 365 values ranging from 0-100\n",
    "is_rainy = rainfall > 0 # Mask for determining if it is a rainy day\n",
    "\n",
    "# Structured weather data\n",
    "weather_data = np.zeros(365, dtype=dtype)\n",
    "\n",
    "# Assign values to structured array\n",
    "weather_data['day']= days\n",
    "weather_data['rainfall'] = rainfall\n",
    "weather_data['is_rainy'] = is_rainy\n",
    "\n",
    "print(weather_data)"
   ]
  },
  {
   "cell_type": "markdown",
   "metadata": {},
   "source": [
    "Filtering Data with Structured Arrays:\n",
    "\n",
    "Use Boolean masks on the structured array to extract all rainy days and compute their average rainfall."
   ]
  },
  {
   "cell_type": "code",
   "execution_count": 79,
   "metadata": {},
   "outputs": [
    {
     "name": "stdout",
     "output_type": "stream",
     "text": [
      "Average rainfall on rainy days: 49.07\n"
     ]
    }
   ],
   "source": [
    "rainy_days_mask = weather_data['rainfall'] > 0 # Mask where rainfall is greater than 0 \n",
    "\n",
    "# Use the mask to filter the rainfall values of the rainy days\n",
    "rainy_days_rainfall = weather_data['rainfall'][rainy_days_mask]\n",
    "\n",
    "# Calculate the average rainfall\n",
    "avg_rainfall = np.mean(rainy_days_rainfall)\n",
    "\n",
    "print(f\"Average rainfall on rainy days: {avg_rainfall:.2f}\")\n"
   ]
  },
  {
   "cell_type": "markdown",
   "metadata": {},
   "source": [
    "Sorting Structured Data:\n",
    "\n",
    "Sort the structured array by rainfall and print the top 5 rainiest days.\n"
   ]
  },
  {
   "cell_type": "code",
   "execution_count": 89,
   "metadata": {},
   "outputs": [
    {
     "name": "stdout",
     "output_type": "stream",
     "text": [
      "Top 5 Rainiest Days: [99.70782 99.24154 99.17426 99.11264 98.8416 ]\n"
     ]
    }
   ],
   "source": [
    "sorted_rainfall = np.sort(weather_data['rainfall'])[::-1]\n",
    "\n",
    "print(f\"Top 5 Rainiest Days: {sorted_rainfall[:5]}\")"
   ]
  }
 ],
 "metadata": {
  "kernelspec": {
   "display_name": "myenv",
   "language": "python",
   "name": "python3"
  },
  "language_info": {
   "codemirror_mode": {
    "name": "ipython",
    "version": 3
   },
   "file_extension": ".py",
   "mimetype": "text/x-python",
   "name": "python",
   "nbconvert_exporter": "python",
   "pygments_lexer": "ipython3",
   "version": "3.12.3"
  }
 },
 "nbformat": 4,
 "nbformat_minor": 2
}
