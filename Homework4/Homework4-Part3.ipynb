{
 "cells": [
  {
   "cell_type": "markdown",
   "metadata": {},
   "source": [
    "Part 3: Iterators (12 points)\n",
    "Using Built-in Iterators (4 points)\n",
    "Use the built-in iter and next functions to iterate over a list of numbers [5, 4, 3, 2, 1] manually.\n"
   ]
  },
  {
   "cell_type": "code",
   "execution_count": null,
   "metadata": {},
   "outputs": [],
   "source": [
    "print(\"Iterators \\n\")\n",
    "numList = [5,4,3,2,1]\n",
    "iterator = iter(numList)\n",
    "print(next(iterator))\n",
    "print(next(iterator))\n",
    "print(next(iterator))\n",
    "print(next(iterator))\n",
    "print(next(iterator))\n"
   ]
  },
  {
   "cell_type": "markdown",
   "metadata": {},
   "source": [
    "Using Generator Expressions (4 points)\n",
    "Use a generator expression to create an iterator that yields uppercase versions of words in a list. Iterate over it using a for loop.\n"
   ]
  },
  {
   "cell_type": "code",
   "execution_count": null,
   "metadata": {},
   "outputs": [],
   "source": [
    "print(\"Using Generator Expressions \\n\")\n",
    "words = [\"hello\", \"world\", \"data\", \"is\", \"awesome\"]\n",
    "uppercase_words = (word.upper() for word in words)\n",
    "\n",
    "for word in uppercase_words:\n",
    "    print(word)"
   ]
  },
  {
   "cell_type": "markdown",
   "metadata": {},
   "source": [
    "Custom Iterator Class (2 points)\n",
    "Write a custom iterator class Countdown that counts down from a given number to zero.\n"
   ]
  },
  {
   "cell_type": "code",
   "execution_count": null,
   "metadata": {},
   "outputs": [],
   "source": [
    "class Countdown:\n",
    "    def __init__(self, start):\n",
    "        self.start = start\n",
    "        self.current = start\n",
    "    \n",
    "    def __iter__(self):\n",
    "        return self\n",
    "    \n",
    "    def __next__(self):\n",
    "        if self.current <= 0:\n",
    "            raise StopIteration\n",
    "        else:\n",
    "            self.current -= 1\n",
    "            return self.current +1\n",
    "\n",
    "countdown = Countdown(5)\n",
    "\n",
    "print(\"Custom Iterator Class \\n\")\n",
    "for number in countdown:\n",
    "    print(number)\n"
   ]
  },
  {
   "cell_type": "markdown",
   "metadata": {},
   "source": [
    "Using itertools (2 points)\n",
    "Use the itertools.cycle function to cycle through a list of colors [\"red\", \"blue\", \"green\"] indefinitely and print the first 6 values.\n"
   ]
  },
  {
   "cell_type": "code",
   "execution_count": 1,
   "metadata": {},
   "outputs": [
    {
     "name": "stdout",
     "output_type": "stream",
     "text": [
      "Using itertools \n",
      "\n",
      "red\n",
      "blue\n",
      "green\n",
      "red\n",
      "blue\n",
      "green\n"
     ]
    }
   ],
   "source": [
    "import itertools\n",
    "\n",
    "color_list = [\"red\", \"blue\", \"green\"]\n",
    "\n",
    "color_cyle = itertools.cycle(color_list)\n",
    "\n",
    "print(\"Using itertools \\n\")\n",
    "for i in range(0, 6):\n",
    "    print(next(color_cyle))"
   ]
  }
 ],
 "metadata": {
  "kernelspec": {
   "display_name": "myenv",
   "language": "python",
   "name": "python3"
  },
  "language_info": {
   "codemirror_mode": {
    "name": "ipython",
    "version": 3
   },
   "file_extension": ".py",
   "mimetype": "text/x-python",
   "name": "python",
   "nbconvert_exporter": "python",
   "pygments_lexer": "ipython3",
   "version": "3.12.3"
  }
 },
 "nbformat": 4,
 "nbformat_minor": 2
}
