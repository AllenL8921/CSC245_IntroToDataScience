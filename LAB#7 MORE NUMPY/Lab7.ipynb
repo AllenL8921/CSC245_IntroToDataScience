{
 "cells": [
  {
   "cell_type": "markdown",
   "metadata": {},
   "source": [
    "Boolean Masks: Generate 100 random numbers, find numbers divisible by 3, and replace them with -1.\n"
   ]
  },
  {
   "cell_type": "code",
   "execution_count": null,
   "metadata": {},
   "outputs": [
    {
     "name": "stdout",
     "output_type": "stream",
     "text": [
      "[ 43  30  56  73  68  94  39  35  76  85  70  39  45  95   9  53  34  98\n",
      "  17  72  63  57  44   9  14  88  36  80  27  14  42  72  95  27  10  63\n",
      "  68  61  56  68  77  57  54  19  33  78   2  55  45  54   1  35  49  51\n",
      "  67   2  63  96  85   4  28  46  12  27  79   8  70  44  78  82  89  98\n",
      "  88 100  28  13  98  93  57  66  71  15   2  49  45  69   6  93  24  42\n",
      "   6  82  90  25  66  65  83   2  17  15]\n"
     ]
    },
    {
     "data": {
      "text/plain": [
       "array([ 43,  -1,  56,  73,  68,  94,  -1,  35,  76,  85,  70,  -1,  -1,\n",
       "        95,  -1,  53,  34,  98,  17,  -1,  -1,  -1,  44,  -1,  14,  88,\n",
       "        -1,  80,  -1,  14,  -1,  -1,  95,  -1,  10,  -1,  68,  61,  56,\n",
       "        68,  77,  -1,  -1,  19,  -1,  -1,   2,  55,  -1,  -1,   1,  35,\n",
       "        49,  -1,  67,   2,  -1,  -1,  85,   4,  28,  46,  -1,  -1,  79,\n",
       "         8,  70,  44,  -1,  82,  89,  98,  88, 100,  28,  13,  98,  -1,\n",
       "        -1,  -1,  71,  -1,   2,  49,  -1,  -1,  -1,  -1,  -1,  -1,  -1,\n",
       "        82,  -1,  25,  -1,  65,  83,   2,  17,  -1], dtype=int32)"
      ]
     },
     "execution_count": 8,
     "metadata": {},
     "output_type": "execute_result"
    }
   ],
   "source": [
    "import numpy as np\n",
    "\n",
    "rand_nums = np.random.randint(1, 101, 100)\n",
    "\n",
    "# Print original numbers\n",
    "print(rand_nums)\n",
    "\n",
    "mask = rand_nums % 3 == 0\n",
    "\n",
    "# Mask applied to random numbers\n",
    "rand_nums[mask] = -1\n",
    "\n",
    "rand_nums\n"
   ]
  }
 ],
 "metadata": {
  "kernelspec": {
   "display_name": "Python 3",
   "language": "python",
   "name": "python3"
  },
  "language_info": {
   "codemirror_mode": {
    "name": "ipython",
    "version": 3
   },
   "file_extension": ".py",
   "mimetype": "text/x-python",
   "name": "python",
   "nbconvert_exporter": "python",
   "pygments_lexer": "ipython3",
   "version": "3.10.11"
  }
 },
 "nbformat": 4,
 "nbformat_minor": 2
}
