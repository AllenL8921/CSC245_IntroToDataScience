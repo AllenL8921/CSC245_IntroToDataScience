{
 "cells": [
  {
   "cell_type": "markdown",
   "metadata": {},
   "source": [
    "Part 2: Errors and Exceptions (10 points)\n",
    "Handling Errors (3 points)\n",
    "Write a function safe_divide(a, b) that divides a by b, but catches the ZeroDivisionError and prints an error message instead of crashing.\n"
   ]
  },
  {
   "cell_type": "code",
   "execution_count": null,
   "metadata": {},
   "outputs": [],
   "source": [
    "def safe_divide(a, b):\n",
    "    try:\n",
    "        return a / b\n",
    "    except ZeroDivisionError:\n",
    "        return \"Error: Cannot divide by zero\"\n"
   ]
  },
  {
   "cell_type": "markdown",
   "metadata": {},
   "source": [
    "Custom Exceptions (3 points)\n",
    "Write a function check_age(age) that raises a ValueError with the message \"Age must be a positive integer\" if age is negative or not an integer.\n"
   ]
  },
  {
   "cell_type": "code",
   "execution_count": null,
   "metadata": {},
   "outputs": [],
   "source": [
    "def check_age(age):\n",
    "    if not isinstance(age, int) or age < 0:\n",
    "        raise ValueError(\"Age must be a positive integer\")\n"
   ]
  },
  {
   "cell_type": "markdown",
   "metadata": {},
   "source": [
    "Handling Multiple Exceptions (2 points)\n",
    "Write a function parse_int(value) that tries to convert a string to an integer and handles ValueError if the conversion fails.\n"
   ]
  },
  {
   "cell_type": "code",
   "execution_count": null,
   "metadata": {},
   "outputs": [],
   "source": [
    "def parse_int(value):\n",
    "    try:\n",
    "        return(int(value))\n",
    "    except ValueError:\n",
    "        return f\"{value} is not a valid integer\"\n"
   ]
  },
  {
   "cell_type": "markdown",
   "metadata": {},
   "source": [
    "Finally Block (2 points)\n",
    "Modify safe_divide to include a finally block that prints \"Division attempted\".\n"
   ]
  },
  {
   "cell_type": "code",
   "execution_count": 1,
   "metadata": {},
   "outputs": [],
   "source": [
    "def safe_divide(a, b):\n",
    "    try:\n",
    "        result = a / b\n",
    "        return result\n",
    "    except ZeroDivisionError:\n",
    "        return \"Error: Zero division is not allowed\"\n",
    "    finally:\n",
    "        print(\"Division completed\")\n"
   ]
  }
 ],
 "metadata": {
  "kernelspec": {
   "display_name": "myenv",
   "language": "python",
   "name": "python3"
  },
  "language_info": {
   "codemirror_mode": {
    "name": "ipython",
    "version": 3
   },
   "file_extension": ".py",
   "mimetype": "text/x-python",
   "name": "python",
   "nbconvert_exporter": "python",
   "pygments_lexer": "ipython3",
   "version": "3.12.3"
  }
 },
 "nbformat": 4,
 "nbformat_minor": 2
}
