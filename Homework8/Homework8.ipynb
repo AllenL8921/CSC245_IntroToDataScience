{
 "cells": [
  {
   "cell_type": "markdown",
   "id": "ef74500c",
   "metadata": {},
   "source": [
    "Section 3.1 – Introducing Pandas Objects\n"
   ]
  },
  {
   "cell_type": "markdown",
   "id": "d178434a",
   "metadata": {},
   "source": [
    "1. Create a Series from a list of exam scores. Assign student names as the index. Then find:\n",
    "\n",
    "    The top scorer\n",
    "\n",
    "    All students scoring above the mean"
   ]
  },
  {
   "cell_type": "code",
   "execution_count": null,
   "id": "c0b66209",
   "metadata": {},
   "outputs": [
    {
     "name": "stdout",
     "output_type": "stream",
     "text": [
      "Exam Scores Series:\n",
      " Alice       81\n",
      "Bob         94\n",
      "Charlie     79\n",
      "David       85\n",
      "Eva        100\n",
      "Frank       92\n",
      "Grace       88\n",
      "Hannah      76\n",
      "Ian         95\n",
      "Jack        89\n",
      "dtype: int64\n",
      "\n",
      "Top Scorer:\n",
      "Eva with a score of 100\n",
      "Students scoring above the mean: 87.9 \n",
      " Bob       94\n",
      "Eva      100\n",
      "Frank     92\n",
      "Grace     88\n",
      "Ian       95\n",
      "Jack      89\n",
      "dtype: int64\n"
     ]
    }
   ],
   "source": [
    "import pandas as pd\n",
    "import numpy as np\n",
    "import matplotlib.pyplot as plt\n",
    "\n",
    "# Define data\n",
    "scores = [81, 94, 79, 85, 100, 92, 88, 76, 95, 89]\n",
    "students = ['Alice', 'Bob', 'Charlie', 'David', 'Eva', 'Frank', 'Grace', 'Hannah', 'Ian', 'Jack']\n",
    "\n",
    "# Create Series\n",
    "exam_scores = pd.Series(scores, index=students)\n",
    "print(\"Exam Scores Series:\\n\", exam_scores)\n",
    "\n",
    "# Find the top scorer\n",
    "top_scorer = exam_scores.idxmax()\n",
    "\n",
    "print(\"\\nTop Scorer:\")\n",
    "print(f\"{top_scorer} with a score of {exam_scores.max()}\")\n",
    "\n",
    "# Students scoring above the mean\n",
    "mean_score = exam_scores.mean()\n",
    "above_mean = exam_scores[exam_scores > mean_score]\n",
    "print(f\"Students scoring above the mean: {mean_score} \\n\", above_mean)\n"
   ]
  },
  {
   "cell_type": "markdown",
   "id": "ab1976cb",
   "metadata": {},
   "source": [
    "2. Create a DataFrame using a dictionary of lists. Include at least 3 columns with different data types. Compute:\n",
    "\n",
    "    Data types of each column\n",
    "\n",
    "    Summary statistics"
   ]
  },
  {
   "cell_type": "code",
   "execution_count": 11,
   "id": "f99e0364",
   "metadata": {},
   "outputs": [
    {
     "name": "stdout",
     "output_type": "stream",
     "text": [
      "Data Types:\n",
      " Name     object\n",
      "Age       int64\n",
      "Score     int64\n",
      "dtype: object\n",
      "Summary Statistics:\n",
      "          Name        Age       Score\n",
      "count       5   5.000000    5.000000\n",
      "unique      5        NaN         NaN\n",
      "top     Alice        NaN         NaN\n",
      "freq        1        NaN         NaN\n",
      "mean      NaN  23.000000   87.800000\n",
      "std       NaN   1.581139    8.927486\n",
      "min       NaN  21.000000   79.000000\n",
      "25%       NaN  22.000000   81.000000\n",
      "50%       NaN  23.000000   85.000000\n",
      "75%       NaN  24.000000   94.000000\n",
      "max       NaN  25.000000  100.000000\n",
      "\n",
      "DataFrame:\n",
      "       Name  Age  Score\n",
      "0    Alice   23     81\n",
      "1      Bob   22     94\n",
      "2  Charlie   25     79\n",
      "3    David   24     85\n",
      "4      Eva   21    100\n"
     ]
    }
   ],
   "source": [
    "data = {\n",
    "    'Name' : ['Alice', 'Bob', 'Charlie', 'David', 'Eva'],\n",
    "    'Age' : [23, 22, 25, 24, 21],\n",
    "    'Score' : [81, 94, 79, 85, 100]\n",
    "}\n",
    "\n",
    "# Create DataFrame \n",
    "df = pd.DataFrame(data)\n",
    "\n",
    "print(\"Data Types:\\n\", df.dtypes)\n",
    "print(\"Summary Statistics:\\n\", df.describe(include='all'))\n",
    "\n",
    "print(\"\\nDataFrame:\\n\", df)"
   ]
  },
  {
   "cell_type": "markdown",
   "id": "5b86df93",
   "metadata": {},
   "source": [
    "3. Load a CSV file into a DataFrame. Perform the following:\n",
    "\n",
    "    Display the first and last 5 rows\n",
    "    \n",
    "    Show .info() and .describe()\n",
    "\n"
   ]
  },
  {
   "cell_type": "code",
   "execution_count": 13,
   "id": "f05137bf",
   "metadata": {},
   "outputs": [
    {
     "name": "stdout",
     "output_type": "stream",
     "text": [
      "First 5 Rows:\n",
      "      ID First Name Last Name  Age Gender Grade                      Email\n",
      "0  1001       Emma   Johnson   16      F    A-   emma.johnson@example.com\n",
      "1  1002       Liam  Williams   17      M    B+  liam.williams@example.com\n",
      "2  1003     Olivia     Brown   16      F     A   olivia.brown@example.com\n",
      "3  1004       Noah     Jones   15      M     B     noah.jones@example.com\n",
      "4  1005        Ava    Garcia   17      F    A+     ava.garcia@example.com\n",
      "Last 5 Rows:\n",
      "      ID First Name  Last Name  Age Gender Grade  \\\n",
      "5  1006     Elijah     Miller   16      M    B-   \n",
      "6  1007     Sophia      Davis   16      F     A   \n",
      "7  1008      James   Martinez   15      M    C+   \n",
      "8  1009   Isabella  Hernandez   17      F    A-   \n",
      "9  1010   Benjamin      Lopez   16      M    B+   \n",
      "\n",
      "                            Email  \n",
      "5       elijah.miller@example.com  \n",
      "6        sophia.davis@example.com  \n",
      "7      james.martinez@example.com  \n",
      "8  isabella.hernandez@example.com  \n",
      "9      benjamin.lopez@example.com  \n",
      "Info:\n",
      "\n",
      "<class 'pandas.core.frame.DataFrame'>\n",
      "RangeIndex: 10 entries, 0 to 9\n",
      "Data columns (total 7 columns):\n",
      " #   Column      Non-Null Count  Dtype \n",
      "---  ------      --------------  ----- \n",
      " 0   ID          10 non-null     int64 \n",
      " 1   First Name  10 non-null     object\n",
      " 2   Last Name   10 non-null     object\n",
      " 3   Age         10 non-null     int64 \n",
      " 4   Gender      10 non-null     object\n",
      " 5   Grade       10 non-null     object\n",
      " 6   Email       10 non-null     object\n",
      "dtypes: int64(2), object(5)\n",
      "memory usage: 692.0+ bytes\n",
      "\n",
      "Describe:\n",
      "                 ID First Name Last Name        Age Gender Grade  \\\n",
      "count     10.00000         10        10  10.000000     10    10   \n",
      "unique         NaN         10        10        NaN      2     7   \n",
      "top            NaN       Emma   Johnson        NaN      F    A-   \n",
      "freq           NaN          1         1        NaN      5     2   \n",
      "mean    1005.50000        NaN       NaN  16.100000    NaN   NaN   \n",
      "std        3.02765        NaN       NaN   0.737865    NaN   NaN   \n",
      "min     1001.00000        NaN       NaN  15.000000    NaN   NaN   \n",
      "25%     1003.25000        NaN       NaN  16.000000    NaN   NaN   \n",
      "50%     1005.50000        NaN       NaN  16.000000    NaN   NaN   \n",
      "75%     1007.75000        NaN       NaN  16.750000    NaN   NaN   \n",
      "max     1010.00000        NaN       NaN  17.000000    NaN   NaN   \n",
      "\n",
      "                           Email  \n",
      "count                         10  \n",
      "unique                        10  \n",
      "top     emma.johnson@example.com  \n",
      "freq                           1  \n",
      "mean                         NaN  \n",
      "std                          NaN  \n",
      "min                          NaN  \n",
      "25%                          NaN  \n",
      "50%                          NaN  \n",
      "75%                          NaN  \n",
      "max                          NaN  \n"
     ]
    }
   ],
   "source": [
    "df_csv = pd.read_csv('students.csv')\n",
    "\n",
    "# Display first and last 5 rows\n",
    "print(\"First 5 Rows:\\n\", df_csv.head())\n",
    "print(\"Last 5 Rows:\\n\", df_csv.tail())\n",
    "\n",
    "# .info() and .describe()\n",
    "print(\"Info:\\n\")\n",
    "df_csv.info()\n",
    "\n",
    "print(\"\\nDescribe:\\n\", df_csv.describe(include='all'))"
   ]
  },
  {
   "cell_type": "markdown",
   "id": "a7cff869",
   "metadata": {},
   "source": [
    "4. Create a Series with datetime indices. Slice the series using index-based access to retrieve data from a given date range."
   ]
  },
  {
   "cell_type": "code",
   "execution_count": 20,
   "id": "8bb72957",
   "metadata": {},
   "outputs": [
    {
     "name": "stdout",
     "output_type": "stream",
     "text": [
      "Datetime Series:\n",
      " 2025-01-01    99\n",
      "2025-01-02    96\n",
      "2025-01-03    97\n",
      "2025-01-04    90\n",
      "2025-01-05    72\n",
      "2025-01-06    73\n",
      "Freq: D, dtype: int64\n",
      "Sliced Data:\n",
      " 2025-01-03    97\n",
      "2025-01-04    90\n",
      "2025-01-05    72\n",
      "Freq: D, dtype: int64\n"
     ]
    }
   ],
   "source": [
    "import numpy as np\n",
    "\n",
    "# Date range\n",
    "dates = pd.date_range('2025-01-01', periods=6)\n",
    "values = pd.Series(np.random.randint(60, 100, size=6), index=dates)\n",
    "print(\"Datetime Series:\\n\", values)\n",
    "\n",
    "\n",
    "# Slice from Jan 3 to Jan 5\n",
    "sliced = values['2025-01-03':'2025-01-05']\n",
    "print(\"Sliced Data:\\n\", sliced)\n",
    "\n"
   ]
  },
  {
   "cell_type": "markdown",
   "id": "366bf724",
   "metadata": {},
   "source": [
    "5. Demonstrate basic arithmetic on two Series with non-aligned indices. Discuss the output and the role of index alignment."
   ]
  },
  {
   "cell_type": "code",
   "execution_count": null,
   "id": "f3cbf63d",
   "metadata": {},
   "outputs": [
    {
     "name": "stdout",
     "output_type": "stream",
     "text": [
      "Series 1:\n",
      " a    10\n",
      "b    20\n",
      "c    30\n",
      "dtype: int64\n",
      "Series 2:\n",
      " b    1\n",
      "c    2\n",
      "d    3\n",
      "dtype: int64\n",
      "Result of Addition:\n",
      " a     NaN\n",
      "b    21.0\n",
      "c    32.0\n",
      "d     NaN\n",
      "dtype: float64\n"
     ]
    }
   ],
   "source": [
    "s1 = pd.Series([10, 20, 30], index=['a', 'b', 'c'])\n",
    "s2 = pd.Series([1, 2, 3], index=['b', 'c', 'd'])\n",
    "\n",
    "result = s1 + s2\n",
    "print(\"Series 1:\\n\", s1)\n",
    "print(\"Series 2:\\n\", s2)\n",
    "print(\"Result of Addition:\\n\", result)\n",
    "\n",
    "\n",
    "# Discuss the output and the role of index alignment.\n",
    "\"\"\"\n",
    "The output shows that the addition of two Series with different indices results in NaN for the indices that do not match.\n",
    "This is due to index alignment, where Pandas aligns the indices of the two Series before performing the operation.\n",
    "This means that if an index exists in one Series but not the other, the result will be NaN for that index.\n",
    "\"\"\""
   ]
  },
  {
   "cell_type": "markdown",
   "id": "bfd3f065",
   "metadata": {},
   "source": [
    "Section 3.2 – Data Indexing and Selection"
   ]
  },
  {
   "cell_type": "markdown",
   "id": "e0569af2",
   "metadata": {},
   "source": [
    "1. Demonstrate the difference between .loc and .iloc using a custom DataFrame.\n"
   ]
  },
  {
   "cell_type": "code",
   "execution_count": 26,
   "id": "a1c2a4d8",
   "metadata": {},
   "outputs": [
    {
     "name": "stdout",
     "output_type": "stream",
     "text": [
      "Custom DataFrame:\n",
      "        Name  Age  Score\n",
      "s1    Alice   24     88\n",
      "s2      Bob   27     91\n",
      "s3  Charlie   22     79\n",
      "s4    David   32     85\n",
      "\n",
      ".loc['s2']:\n",
      " Name     Bob\n",
      "Age       27\n",
      "Score     91\n",
      "Name: s2, dtype: object\n",
      "\n",
      ".loc[['s2', 's4']]:\n",
      "      Name  Age  Score\n",
      "s2    Bob   27     91\n",
      "s4  David   32     85\n",
      "\n",
      ".loc['s1', 'Name']: Alice\n",
      "\n",
      ".iloc[1]:\n",
      " Name     Bob\n",
      "Age       27\n",
      "Score     91\n",
      "Name: s2, dtype: object\n",
      "\n",
      ".iloc[[1, 3]]:\n",
      "      Name  Age  Score\n",
      "s2    Bob   27     91\n",
      "s4  David   32     85\n",
      "\n",
      ".iloc[0, 0]: Alice\n"
     ]
    }
   ],
   "source": [
    "import pandas as pd\n",
    "\n",
    "# Sample data\n",
    "data = {\n",
    "    'Name': ['Alice', 'Bob', 'Charlie', 'David'],\n",
    "    'Age': [24, 27, 22, 32],\n",
    "    'Score': [88, 91, 79, 85]\n",
    "}\n",
    "\n",
    "# Custom row labels\n",
    "df = pd.DataFrame(data, index=['s1', 's2', 's3', 's4'])\n",
    "print(\"Custom DataFrame:\\n\", df)\n",
    "\n",
    "# Access a single row by label\n",
    "print(\"\\n.loc['s2']:\\n\", df.loc['s2'])\n",
    "\n",
    "# Access multiple rows by label\n",
    "print(\"\\n.loc[['s2', 's4']]:\\n\", df.loc[['s2', 's4']])\n",
    "\n",
    "# Access specific rows and columns by labels\n",
    "print(\"\\n.loc['s1', 'Name']:\", df.loc['s1', 'Name'])\n",
    "\n",
    "# Access a single row by position\n",
    "print(\"\\n.iloc[1]:\\n\", df.iloc[1])\n",
    "\n",
    "# Access multiple rows by position\n",
    "print(\"\\n.iloc[[1, 3]]:\\n\", df.iloc[[1, 3]])\n",
    "\n",
    "# Access specific element by row and column index\n",
    "print(\"\\n.iloc[0, 0]:\", df.iloc[0, 0])  # Row 0, Column 0"
   ]
  },
  {
   "cell_type": "markdown",
   "id": "109a2674",
   "metadata": {},
   "source": [
    "2. Use conditional logic to filter rows in a DataFrame based on values in one or more columns."
   ]
  },
  {
   "cell_type": "code",
   "execution_count": null,
   "id": "155a344c",
   "metadata": {},
   "outputs": [
    {
     "name": "stdout",
     "output_type": "stream",
     "text": [
      "\n",
      "Students with Score > 85:\n",
      "      Name  Age  Score\n",
      "s1  Alice   24     88\n",
      "s2    Bob   27     91\n",
      "\n",
      "Students whos age > 20 with Score > 90:\n",
      "    Name  Age  Score\n",
      "s2  Bob   27     91\n"
     ]
    }
   ],
   "source": [
    "# Filter: Students with Score > 85\n",
    "high_scores = df[df['Score'] > 85]\n",
    "print(\"\\nStudents with Score > 85:\\n\", high_scores)\n",
    "\n",
    "# Students aged 20 AND score above 90\n",
    "age_and_score = df[(df['Age'] > 20) & (df['Score'] > 90)]\n",
    "print(\"\\nStudents with age > 20 with Score > 90:\\n\", age_and_score)\n"
   ]
  },
  {
   "cell_type": "markdown",
   "id": "35da1e55",
   "metadata": {},
   "source": [
    "3. Create a boolean mask to find all elements in a DataFrame greater than a threshold.\n",
    "\n"
   ]
  },
  {
   "cell_type": "code",
   "execution_count": null,
   "id": "d26bbfcf",
   "metadata": {},
   "outputs": [
    {
     "name": "stdout",
     "output_type": "stream",
     "text": [
      "Original DataFrame:\n",
      "          Math  Science  English\n",
      "Alice      78       83       75\n",
      "Bob        85       89       80\n",
      "Charlie    92       95       78\n",
      "\n",
      "Boolean Mask (values > 85):\n",
      "           Math  Science  English\n",
      "Alice    False    False    False\n",
      "Bob      False     True    False\n",
      "Charlie   True     True    False\n"
     ]
    }
   ],
   "source": [
    "import pandas as pd\n",
    "\n",
    "# Sample data\n",
    "data = {\n",
    "    'Math': [78, 85, 92],\n",
    "    'Science': [83, 89, 95],\n",
    "    'English': [75, 80, 78]\n",
    "}\n",
    "\n",
    "df = pd.DataFrame(data, index=['Alice', 'Bob', 'Charlie'])\n",
    "print(\"Original DataFrame:\\n\", df)\n",
    "\n",
    "threshold = 85\n",
    "mask = df > threshold\n",
    "print(\"\\nBoolean Mask (values > 85):\\n\", mask)\n"
   ]
  },
  {
   "cell_type": "markdown",
   "id": "081289a1",
   "metadata": {},
   "source": [
    "4. Demonstrate chained indexing pitfalls and explain how to use .copy() to avoid them."
   ]
  },
  {
   "cell_type": "code",
   "execution_count": 39,
   "id": "67ae1491",
   "metadata": {},
   "outputs": [
    {
     "name": "stdout",
     "output_type": "stream",
     "text": [
      "Original DataFrame:\n",
      "       Name  Score\n",
      "0    Alice     88\n",
      "1      Bob     92\n",
      "2  Charlie     79\n",
      "3    David     85\n",
      "\n",
      "Modified DataFrame:\n",
      "       Name  Score\n",
      "0    Alice     88\n",
      "1      Bob    100\n",
      "2  Charlie     79\n",
      "3    David     85\n",
      "\n",
      "High Scores DataFrame:\n",
      "   Name  Score\n",
      "1  Bob    105\n"
     ]
    }
   ],
   "source": [
    "import pandas as pd\n",
    "\n",
    "data = {\n",
    "    'Name': ['Alice', 'Bob', 'Charlie', 'David'],\n",
    "    'Score': [88, 92, 79, 85]\n",
    "}\n",
    "\n",
    "df = pd.DataFrame(data)\n",
    "print(\"Original DataFrame:\\n\", df)\n",
    "\n",
    "\"\"\"\n",
    "Chained indexing is when you use multiple brackets or accesses one after another, like:\n",
    "df[df['Score'] > 90]['Score'] = 100\n",
    "MIGHT NOT WORK!!!\n",
    "\"\"\"\n",
    "\n",
    "df.loc[df['Score'] > 90, 'Score'] = 100\n",
    "print(\"\\nModified DataFrame:\\n\", df)\n",
    "\n",
    "\"\"\"\n",
    "df['Score'] > 90 creates a mask and returns a new temporary DataFrame.\n",
    "\n",
    "['Score'] = 100 is modifying that temp object, not the original df.\n",
    "\"\"\"\n",
    "\n",
    "# Make a safe copy of filtered rows\n",
    "high_scores = df[df['Score'] > 90].copy()\n",
    "high_scores['Score'] = 105\n",
    "print(\"\\nHigh Scores DataFrame:\\n\", high_scores)\n"
   ]
  },
  {
   "cell_type": "markdown",
   "id": "e2458c77",
   "metadata": {},
   "source": [
    "5. Create a DataFrame, set a custom index, and perform row and column slicing using .loc and .iloc."
   ]
  },
  {
   "cell_type": "code",
   "execution_count": null,
   "id": "d95e3d50",
   "metadata": {},
   "outputs": [
    {
     "name": "stdout",
     "output_type": "stream",
     "text": [
      "Custom-Indexed DataFrame:\n",
      "     Subject  Score Grade\n",
      "s1     Math     88     B\n",
      "s2  Science     92     A\n",
      "s3  English     85     B\n",
      "s4  History     79     C\n",
      "s5      Art     95     A\n",
      "\n",
      ".loc row slice ('s2' to 's4'):\n",
      "     Subject  Score Grade\n",
      "s2  Science     92     A\n",
      "s3  English     85     B\n",
      "s4  History     79     C\n",
      "\n",
      ".loc row and column slice:\n",
      "     Subject Grade\n",
      "s1     Math     B\n",
      "s2  Science     A\n",
      "s3  English     B\n"
     ]
    }
   ],
   "source": [
    "import pandas as pd\n",
    "\n",
    "# Sample data\n",
    "data = {\n",
    "    'Subject': ['Math', 'Science', 'English', 'History', 'Art'],\n",
    "    'Score': [88, 92, 85, 79, 95],\n",
    "    'Grade': ['B', 'A', 'B', 'C', 'A']\n",
    "}\n",
    "\n",
    "# Create DataFrame with custom row labels\n",
    "df = pd.DataFrame(data, index=['s1', 's2', 's3', 's4', 's5'])\n",
    "print(\"Custom-Indexed DataFrame:\\n\", df)\n",
    "\n",
    "# Row slicing \n",
    "# Taking 2nd to 4th rows\n",
    "print(\"\\n.loc row slice ('s2' to 's4'):\\n\", df.loc['s2':'s4'])\n",
    "\n",
    "# Column slicing \n",
    "# Taking first 3 rows and getting the subject and grade column\n",
    "print(\"\\n.loc row and column slice:\\n\", df.loc['s1':'s3', ['Subject', 'Grade']])"
   ]
  },
  {
   "cell_type": "markdown",
   "id": "86ee3da6",
   "metadata": {},
   "source": [
    "Section 3.3 – Index Objects"
   ]
  },
  {
   "cell_type": "markdown",
   "id": "4afbd041",
   "metadata": {},
   "source": [
    "1. Create a Series with custom index and show that Index objects are immutable."
   ]
  },
  {
   "cell_type": "code",
   "execution_count": 44,
   "id": "62e6515b",
   "metadata": {},
   "outputs": [
    {
     "name": "stdout",
     "output_type": "stream",
     "text": [
      "Series:\n",
      " a    100\n",
      "b    200\n",
      "c    300\n",
      "dtype: int64\n",
      "\n",
      "❌ Index is immutable: Index does not support mutable operations\n"
     ]
    }
   ],
   "source": [
    "import pandas as pd\n",
    "\n",
    "# Custom Series\n",
    "data = pd.Series([100, 200, 300], index=['a', 'b', 'c'])\n",
    "print(\"Series:\\n\", data)\n",
    "\n",
    "# Try modifying the index (will raise error)\n",
    "try:\n",
    "    data.index[0] = 'z'\n",
    "except Exception as e:\n",
    "    print(\"\\n❌ Index is immutable:\", e)"
   ]
  },
  {
   "cell_type": "markdown",
   "id": "fce0f114",
   "metadata": {},
   "source": [
    "2. Generate a hierarchical index for a Series and access subsets of data using multiple levels.\n"
   ]
  },
  {
   "cell_type": "code",
   "execution_count": 47,
   "id": "fe48d076",
   "metadata": {},
   "outputs": [
    {
     "name": "stdout",
     "output_type": "stream",
     "text": [
      "\n",
      "Hierarchical Series:\n",
      " Math     Alice    88\n",
      "         Bob      92\n",
      "Science  Alice    85\n",
      "         Bob      90\n",
      "dtype: int64\n",
      "\n",
      "Math Scores:\n",
      " Alice    88\n",
      "Bob      92\n",
      "dtype: int64\n",
      "\n",
      "Bob's Scores:\n",
      " Math       92\n",
      "Science    90\n",
      "dtype: int64\n"
     ]
    }
   ],
   "source": [
    "# Multi-level Series\n",
    "index = pd.MultiIndex.from_tuples([('Math', 'Alice'), ('Math', 'Bob'),\n",
    "                                   ('Science', 'Alice'), ('Science', 'Bob')])\n",
    "\n",
    "scores = pd.Series([88, 92, 85, 90], index=index)\n",
    "print(\"\\nHierarchical Series:\\n\", scores)\n",
    "\n",
    "# Access all Math scores\n",
    "print(\"\\nMath Scores:\\n\", scores['Math'])\n",
    "\n",
    "# Access Bob's scores across subjects\n",
    "print(\"\\nBob's Scores:\\n\", scores.loc[(slice(None), 'Bob')])\n"
   ]
  },
  {
   "cell_type": "markdown",
   "id": "90adf829",
   "metadata": {},
   "source": [
    "3. Create a DataFrame with MultiIndex on rows and perform .swaplevel() and .sort_index()."
   ]
  },
  {
   "cell_type": "code",
   "execution_count": null,
   "id": "b403d0f5",
   "metadata": {},
   "outputs": [
    {
     "name": "stdout",
     "output_type": "stream",
     "text": [
      "                  Math  Science\n",
      "Grade    Student               \n",
      "Grade 10 Alice      88       83\n",
      "         Bob        92       89\n",
      "Grade 11 Alice      85       95\n",
      "         Bob        90       91\n",
      "\n",
      "Swapped Levels:\n",
      "                   Math  Science\n",
      "Student Grade                  \n",
      "Alice   Grade 10    88       83\n",
      "Bob     Grade 10    92       89\n",
      "Alice   Grade 11    85       95\n",
      "Bob     Grade 11    90       91\n",
      "\n",
      "Sorted DataFrame:\n",
      "                   Math  Science\n",
      "Student Grade                  \n",
      "Alice   Grade 10    88       83\n",
      "        Grade 11    85       95\n",
      "Bob     Grade 10    92       89\n",
      "        Grade 11    90       91\n"
     ]
    }
   ],
   "source": [
    "arrays = [['Grade 10', 'Grade 10', 'Grade 11', 'Grade 11'],\n",
    "          ['Alice', 'Bob', 'Alice', 'Bob']]\n",
    "index = pd.MultiIndex.from_arrays(arrays, names=('Grade', 'Student'))\n",
    "\n",
    "df = pd.DataFrame({\n",
    "    'Math': [88, 92, 85, 90],\n",
    "    'Science': [83, 89, 95, 91]\n",
    "}, index=index)\n",
    "\n",
    "print(df)\n",
    "\n",
    "# Swap levels\n",
    "swapped = df.swaplevel()\n",
    "print(\"\\nSwapped Levels:\\n\", swapped)\n",
    "\n",
    "# Sort by index\n",
    "sorted_df = swapped.sort_index()\n",
    "print(\"\\nSorted DataFrame:\\n\", sorted_df)"
   ]
  },
  {
   "cell_type": "markdown",
   "id": "4997384e",
   "metadata": {},
   "source": [
    "4. Reset and set index on a DataFrame and analyze the effects of drop and inplace."
   ]
  },
  {
   "cell_type": "code",
   "execution_count": 57,
   "id": "bc96c5fa",
   "metadata": {},
   "outputs": [
    {
     "name": "stdout",
     "output_type": "stream",
     "text": [
      "\n",
      "Reset Index:\n",
      "       Grade Student  Math  Science\n",
      "0  Grade 10   Alice    88       83\n",
      "1  Grade 10     Bob    92       89\n",
      "2  Grade 11   Alice    85       95\n",
      "3  Grade 11     Bob    90       91\n",
      "\n",
      "Set 'Grade' as index:\n",
      "          Student  Math  Science\n",
      "Grade                          \n",
      "Grade 10   Alice    88       83\n",
      "Grade 10     Bob    92       89\n",
      "Grade 11   Alice    85       95\n",
      "Grade 11     Bob    90       91\n",
      "\n",
      "Reset with Drop=True:\n",
      "    Math  Science\n",
      "0    88       83\n",
      "1    92       89\n",
      "2    85       95\n",
      "3    90       91\n",
      "\n",
      "Reset index inplace:\n",
      "       Grade Student  Math  Science\n",
      "0  Grade 10   Alice    88       83\n",
      "1  Grade 10     Bob    92       89\n",
      "2  Grade 11   Alice    85       95\n",
      "3  Grade 11     Bob    90       91\n"
     ]
    }
   ],
   "source": [
    "# Reset index \n",
    "reset_df = df.reset_index()\n",
    "print(\"\\nReset Index:\\n\", reset_df)\n",
    "\n",
    "# Set 'Grade' back as index\n",
    "set_index_df = reset_df.set_index('Grade')\n",
    "print(\"\\nSet 'Grade' as index:\\n\", set_index_df)\n",
    "\n",
    "# Drop index while resetting \n",
    "reset_dropped = df.reset_index(drop=True)\n",
    "print(\"\\nReset with Drop=True:\\n\", reset_dropped)\n",
    "\n",
    "# In-place operation (modify without returning new object)\n",
    "df_copy = df.copy()\n",
    "df_copy.reset_index(inplace=True)\n",
    "print(\"\\nReset index inplace:\\n\", df_copy)"
   ]
  },
  {
   "cell_type": "markdown",
   "id": "c7c4ac65",
   "metadata": {},
   "source": [
    "5. Demonstrate arithmetic between DataFrames with mismatched indices and explain automatic alignment."
   ]
  },
  {
   "cell_type": "code",
   "execution_count": 60,
   "id": "cf17be0a",
   "metadata": {},
   "outputs": [
    {
     "name": "stdout",
     "output_type": "stream",
     "text": [
      "\n",
      "Arithmetic with Mismatched Indices:\n",
      "           Math\n",
      "Alice      NaN\n",
      "Bob      165.0\n",
      "Charlie    NaN\n"
     ]
    },
    {
     "data": {
      "text/plain": [
       "'\\nPandas aligns on both rows and columns.\\n\\nMissing values will result in NaN.\\n\\n'"
      ]
     },
     "execution_count": 60,
     "metadata": {},
     "output_type": "execute_result"
    }
   ],
   "source": [
    "df1 = pd.DataFrame({'Math': [90, 85]}, index=['Alice', 'Bob'])\n",
    "df2 = pd.DataFrame({'Math': [80, 95]}, index=['Bob', 'Charlie'])\n",
    "\n",
    "result = df1 + df2\n",
    "print(\"\\nArithmetic with Mismatched Indices:\\n\", result)\n",
    "\n",
    "\"\"\"\n",
    "Pandas aligns on both rows and columns.\n",
    "\n",
    "Missing values will result in NaN.\n",
    "\n",
    "\"\"\"\n"
   ]
  },
  {
   "cell_type": "markdown",
   "id": "710136e5",
   "metadata": {},
   "source": [
    "Section 3.4 – Reindexing\n"
   ]
  },
  {
   "cell_type": "markdown",
   "id": "cbd111ba",
   "metadata": {},
   "source": [
    "1. Reindex a Series to include additional indices and fill the missing values using fill_value and method.\n"
   ]
  },
  {
   "cell_type": "code",
   "execution_count": null,
   "id": "dcc472f9",
   "metadata": {},
   "outputs": [
    {
     "name": "stdout",
     "output_type": "stream",
     "text": [
      "Original Series:\n",
      " a    100\n",
      "b    200\n",
      "c    300\n",
      "dtype: int64\n",
      "\n",
      "Reindexed with fill_value=0:\n",
      " a    100\n",
      "b    200\n",
      "c    300\n",
      "d      0\n",
      "e      0\n",
      "dtype: int64\n",
      "\n",
      "Reindexed with method='ffill':\n",
      " a    100\n",
      "b    200\n",
      "c    300\n",
      "d    300\n",
      "e    300\n",
      "dtype: int64\n"
     ]
    }
   ],
   "source": [
    "import pandas as pd\n",
    "\n",
    "# Original Series\n",
    "s = pd.Series([100, 200, 300], index=['a', 'b', 'c'])\n",
    "print(\"Original Series:\\n\", s)\n",
    "\n",
    "# Reindex with additional index 'd' and 'e'\n",
    "s_reindexed = s.reindex(['a', 'b', 'c', 'd', 'e'], fill_value=0)\n",
    "print(\"\\nReindexed with fill_value=0:\\n\", s_reindexed)\n",
    "\n",
    "# Reindex using forward-fill method\n",
    "# foward fill takes the last valid value and fills the missing values from then on\n",
    "s_ffill = s.reindex(['a', 'b', 'c', 'd', 'e'], method='ffill')\n",
    "print(\"\\nReindexed with method='ffill':\\n\", s_ffill)\n"
   ]
  },
  {
   "cell_type": "markdown",
   "id": "84d05f1c",
   "metadata": {},
   "source": [
    "\n",
    "2. Reindex a DataFrame’s rows and columns and analyze the shape and null values.\n"
   ]
  },
  {
   "cell_type": "code",
   "execution_count": 62,
   "id": "6bc1754b",
   "metadata": {},
   "outputs": [
    {
     "name": "stdout",
     "output_type": "stream",
     "text": [
      "\n",
      "Reindexed DataFrame:\n",
      "          Math  Science  English\n",
      "Alice    85.0     88.0      NaN\n",
      "Bob      90.0     89.0      NaN\n",
      "Charlie  95.0     94.0      NaN\n",
      "David     NaN      NaN      NaN\n",
      "\n",
      "Shape: (4, 3)\n",
      "\n",
      "Null Values:\n",
      "           Math  Science  English\n",
      "Alice    False    False     True\n",
      "Bob      False    False     True\n",
      "Charlie  False    False     True\n",
      "David     True     True     True\n"
     ]
    }
   ],
   "source": [
    "df = pd.DataFrame({\n",
    "    'Math': [85, 90, 95],\n",
    "    'Science': [88, 89, 94]\n",
    "}, index=['Alice', 'Bob', 'Charlie'])\n",
    "\n",
    "# Reindex rows and add a column\n",
    "df_reindexed = df.reindex(index=['Alice', 'Bob', 'Charlie', 'David'],\n",
    "                          columns=['Math', 'Science', 'English'])\n",
    "print(\"\\nReindexed DataFrame:\\n\", df_reindexed)\n",
    "\n",
    "# Analyze shape and nulls\n",
    "print(\"\\nShape:\", df_reindexed.shape)\n",
    "print(\"\\nNull Values:\\n\", df_reindexed.isnull())\n"
   ]
  },
  {
   "cell_type": "markdown",
   "id": "f44c91cb",
   "metadata": {},
   "source": [
    "\n",
    "3. Simulate a time series with missing dates. Use reindex() and interpolate() to fill gaps.\n"
   ]
  },
  {
   "cell_type": "code",
   "execution_count": 10,
   "id": "19197cfa",
   "metadata": {},
   "outputs": [
    {
     "name": "stdout",
     "output_type": "stream",
     "text": [
      "            value\n",
      "date             \n",
      "2023-01-01     54\n",
      "2023-01-02     57\n",
      "2023-01-03     74\n",
      "2023-01-04     77\n",
      "2023-01-05     77\n",
      "2023-01-06     19\n",
      "2023-01-07     93\n",
      "2023-01-08     31\n",
      "2023-01-09     46\n",
      "2023-01-10     97\n",
      "\n",
      "After reindexing:\n",
      "             value\n",
      "2023-01-01   54.0\n",
      "2023-01-02   57.0\n",
      "2023-01-03    NaN\n",
      "2023-01-04   77.0\n",
      "2023-01-05   77.0\n",
      "2023-01-06    NaN\n",
      "2023-01-07   93.0\n",
      "2023-01-08    NaN\n",
      "2023-01-09   46.0\n",
      "2023-01-10   97.0\n",
      "\n",
      "After interpolation:\n",
      "             value\n",
      "2023-01-01   54.0\n",
      "2023-01-02   57.0\n",
      "2023-01-03   67.0\n",
      "2023-01-04   77.0\n",
      "2023-01-05   77.0\n",
      "2023-01-06   85.0\n",
      "2023-01-07   93.0\n",
      "2023-01-08   69.5\n",
      "2023-01-09   46.0\n",
      "2023-01-10   97.0\n"
     ]
    }
   ],
   "source": [
    "import pandas as pd\n",
    "import numpy as np\n",
    "\n",
    "dates = pd.date_range(start='2023-01-01', end='2023-01-10', freq='D')\n",
    "\n",
    "np.random.seed(0)\n",
    "\n",
    "data = pd.DataFrame({\n",
    "    'date': dates,\n",
    "    'value': np.random.randint(10, 100, size=len(dates))\n",
    "})\n",
    "\n",
    "data.set_index('date', inplace=True)\n",
    "\n",
    "# Introduce missing values\n",
    "data_missing = data.drop(index=['2023-01-03', '2023-01-06', '2023-01-08'])\n",
    "full_range = pd.date_range(start='2023-01-01', end='2023-01-10', freq='D')\n",
    "data_reindexed = data_missing.reindex(full_range)\n",
    "data_interpolated = data_reindexed.interpolate()\n",
    "\n",
    "print(data)\n",
    "print(\"\\nAfter reindexing:\\n\", data_reindexed)\n",
    "print(\"\\nAfter interpolation:\\n\", data_interpolated)\n",
    "\n"
   ]
  },
  {
   "cell_type": "markdown",
   "id": "4598da34",
   "metadata": {},
   "source": [
    "\n",
    "4. Write a function that reindexes a Series/DataFrame to a desired index with a selected method.\n"
   ]
  },
  {
   "cell_type": "code",
   "execution_count": null,
   "id": "7d92cc1e",
   "metadata": {},
   "outputs": [],
   "source": [
    "def reindex_and_fill(data, new_index, method=\"interpolate\", **kwargs):\n",
    "    reindexed = data.reindex(new_index)\n",
    "    if method == \"interpolate\":\n",
    "        filled = reindexed.interpolate(**kwargs)\n",
    "    elif method == \"ffill\":\n",
    "        filled = reindexed.ffill(**kwargs)\n",
    "    elif method == \"bfill\":\n",
    "        filled = reindexed.bfill(**kwargs)\n",
    "    else:\n",
    "        raise ValueError(\"Unsupported fill method\")\n",
    "    \n",
    "    return filled"
   ]
  },
  {
   "cell_type": "markdown",
   "id": "02efb7b6",
   "metadata": {},
   "source": [
    "\n",
    "5. Compare reindex() with sort_index() and sort_values() using sample data.\n"
   ]
  },
  {
   "cell_type": "code",
   "execution_count": null,
   "id": "988a9cf4",
   "metadata": {},
   "outputs": [
    {
     "name": "stdout",
     "output_type": "stream",
     "text": [
      "Original DataFrame:\n",
      "    value\n",
      "d    100\n",
      "b    300\n",
      "a    200\n",
      "c    400\n",
      "\n",
      "After reindex():\n",
      "    value\n",
      "a  200.0\n",
      "b  300.0\n",
      "c  400.0\n",
      "d  100.0\n",
      "e    NaN\n",
      "\n",
      "After sort_index():\n",
      "    value\n",
      "a    200\n",
      "b    300\n",
      "c    400\n",
      "d    100\n",
      "\n",
      "After sort_values():\n",
      "    value\n",
      "d    100\n",
      "a    200\n",
      "b    300\n",
      "c    400\n"
     ]
    }
   ],
   "source": [
    "import pandas as pd\n",
    "\n",
    "# Create a sample DataFrame\n",
    "df = pd.DataFrame({\n",
    "    'value': [100, 300, 200, 400]\n",
    "}, index=['d', 'b', 'a', 'c'])\n",
    "\n",
    "print(\"Original DataFrame:\\n\", df)\n",
    "\n",
    "# Adds new rows and columns with NaN values\n",
    "df_reindexed = df.reindex(['a', 'b', 'c', 'd', 'e'])\n",
    "print(\"\\nAfter reindex():\\n\", df_reindexed)\n",
    "\n",
    "# Sorts data based on the index (row labels) alphabetically or numerically.\n",
    "df_sorted_index = df.sort_index()\n",
    "print(\"\\nAfter sort_index():\\n\", df_sorted_index)\n",
    "\n",
    "# Sorts data based on the values in the 'value' column in ascending order\n",
    "df_sorted_values = df.sort_values(by='value')\n",
    "print(\"\\nAfter sort_values():\\n\", df_sorted_values)\n",
    "\n"
   ]
  },
  {
   "cell_type": "markdown",
   "id": "64bb2dc1",
   "metadata": {},
   "source": [
    "Section 3.5 – Ufuncs: Index Preservation\n"
   ]
  },
  {
   "cell_type": "markdown",
   "id": "a511399c",
   "metadata": {},
   "source": [
    "1. Apply NumPy universal functions (e.g., np.exp, np.log) to Series and observe index preservation.\n"
   ]
  },
  {
   "cell_type": "code",
   "execution_count": 15,
   "id": "754b61cb",
   "metadata": {},
   "outputs": [
    {
     "name": "stdout",
     "output_type": "stream",
     "text": [
      "Original:\n",
      " a    1.0\n",
      "b    2.0\n",
      "c    3.0\n",
      "d    NaN\n",
      "dtype: float64\n",
      "\n",
      "np.exp(s):\n",
      " a     2.718282\n",
      "b     7.389056\n",
      "c    20.085537\n",
      "d          NaN\n",
      "dtype: float64\n",
      "\n",
      "np.log(s):\n",
      " a    0.000000\n",
      "b    0.693147\n",
      "c    1.098612\n",
      "d         NaN\n",
      "dtype: float64\n"
     ]
    }
   ],
   "source": [
    "import pandas as pd\n",
    "import numpy as np\n",
    "\n",
    "s = pd.Series([1, 2, 3, np.nan], index=['a', 'b', 'c', 'd'])\n",
    "\n",
    "# Apply NumPy functions\n",
    "exp_s = np.exp(s)\n",
    "log_s = np.log(s)\n",
    "\n",
    "print(\"Original:\\n\", s)\n",
    "print(\"\\nnp.exp(s):\\n\", exp_s)\n",
    "print(\"\\nnp.log(s):\\n\", log_s)"
   ]
  },
  {
   "cell_type": "markdown",
   "id": "4ef4b006",
   "metadata": {},
   "source": [
    "\n",
    "2. Apply element-wise operations on two Series with partially overlapping indices.\n"
   ]
  },
  {
   "cell_type": "code",
   "execution_count": 16,
   "id": "29c0c07a",
   "metadata": {},
   "outputs": [
    {
     "name": "stdout",
     "output_type": "stream",
     "text": [
      "a     NaN\n",
      "b    21.0\n",
      "c    32.0\n",
      "d     NaN\n",
      "dtype: float64\n"
     ]
    }
   ],
   "source": [
    "s1 = pd.Series([10, 20, 30], index=['a', 'b', 'c'])\n",
    "s2 = pd.Series([1, 2, 3], index=['b', 'c', 'd'])\n",
    "result = s1 + s2\n",
    "print(result)"
   ]
  },
  {
   "cell_type": "markdown",
   "id": "05823362",
   "metadata": {},
   "source": [
    "\n",
    "3. Use np.where on a Series to apply conditional logic in a vectorized fashion.\n"
   ]
  },
  {
   "cell_type": "code",
   "execution_count": 18,
   "id": "b01d59f3",
   "metadata": {},
   "outputs": [
    {
     "name": "stdout",
     "output_type": "stream",
     "text": [
      "a    less than or equal to 1\n",
      "b             greater than 1\n",
      "c             greater than 1\n",
      "dtype: object\n"
     ]
    }
   ],
   "source": [
    "s = pd.Series([1, 2, 3], index=['a','b','c'])\n",
    "\n",
    "labels = np.where(s > 1, 'greater than 1', 'less than or equal to 1')\n",
    "labeled_series = pd.Series(labels, index=s.index)\n",
    "print(labeled_series)"
   ]
  },
  {
   "cell_type": "markdown",
   "id": "5c254478",
   "metadata": {},
   "source": [
    "\n",
    "4. Create a function that applies a ufunc and returns a cleaned result (handling NaNs and type changes).\n"
   ]
  },
  {
   "cell_type": "code",
   "execution_count": 20,
   "id": "bf04967c",
   "metadata": {},
   "outputs": [
    {
     "name": "stdout",
     "output_type": "stream",
     "text": [
      "0    1.000000\n",
      "1    1.414214\n",
      "2    1.732051\n",
      "dtype: float64\n"
     ]
    }
   ],
   "source": [
    "def ufunc(series, func):\n",
    "    result = func(series)\n",
    "    result_clean = result.dropna()\n",
    "    return result_clean.astype(series.dtype) if np.issubdtype(series.dtype, np.number) else result_clean\n",
    "\n",
    "s = pd.Series([1, 2, 3, np.nan])\n",
    "cleaned = ufunc(s, np.sqrt)\n",
    "print(cleaned)\n"
   ]
  },
  {
   "cell_type": "markdown",
   "id": "86377fdc",
   "metadata": {},
   "source": [
    "\n",
    "5. Compare element-wise operations on Series vs. NumPy arrays. Discuss indexing and performance.\n"
   ]
  },
  {
   "cell_type": "code",
   "execution_count": null,
   "id": "0d58a0d9",
   "metadata": {},
   "outputs": [
    {
     "name": "stdout",
     "output_type": "stream",
     "text": [
      "184 μs ± 5.39 μs per loop (mean ± std. dev. of 7 runs, 10,000 loops each)\n",
      "232 μs ± 10.7 μs per loop (mean ± std. dev. of 7 runs, 1,000 loops each)\n"
     ]
    }
   ],
   "source": [
    "arr = np.random.rand(1_000_000)\n",
    "series = pd.Series(arr)\n",
    "\n",
    "# Time NumPy\n",
    "%timeit arr * 2\n",
    "\n",
    "# Time Pandas\n",
    "%timeit series * 2\n",
    "\n",
    "\"\"\"\n",
    "NumPy is faster (~25–40%) because it's lower-level and doesn't handle labels or alignment.\n",
    "\n",
    "Pandas adds overhead for rich features like indexing, alignment, and NaN handling.\n",
    "\"\"\"\n"
   ]
  },
  {
   "cell_type": "markdown",
   "id": "50ad7dca",
   "metadata": {},
   "source": [
    "Section 3.6 – Operating on Data in Pandas\n"
   ]
  },
  {
   "cell_type": "markdown",
   "id": "c5b9dcbf",
   "metadata": {},
   "source": [
    "1. Apply arithmetic operations to a DataFrame and demonstrate broadcasting across rows/columns.\n"
   ]
  },
  {
   "cell_type": "code",
   "execution_count": 26,
   "id": "d60d975c",
   "metadata": {},
   "outputs": [
    {
     "name": "stdout",
     "output_type": "stream",
     "text": [
      "Original DataFrame:\n",
      "          Math  Science\n",
      "Alice      80       85\n",
      "Bob        90       95\n",
      "Charlie    70       75\n",
      "\n",
      "Row-wise Adjustment:\n",
      "          Math  Science\n",
      "Alice      85       90\n",
      "Bob        87       92\n",
      "Charlie    80       85\n",
      "\n",
      "Column-wise Weighted Adjustment:\n",
      "          Math  Science\n",
      "Alice    48.0     34.0\n",
      "Bob      54.0     38.0\n",
      "Charlie  42.0     30.0\n"
     ]
    }
   ],
   "source": [
    "import pandas as pd\n",
    "import numpy as np\n",
    "\n",
    "df = pd.DataFrame({\n",
    "    'Math': [80, 90, 70],\n",
    "    'Science': [85, 95, 75]\n",
    "}, index=['Alice', 'Bob', 'Charlie'])\n",
    "\n",
    "print(\"Original DataFrame:\\n\", df)\n",
    "\n",
    "# Broadcast a Series across columns (row-wise operation)\n",
    "row_adjustment = pd.Series([5, -3, 10], index=df.index)\n",
    "df_adjusted = df.add(row_adjustment, axis=0)\n",
    "print(\"\\nRow-wise Adjustment:\\n\", df_adjusted)\n",
    "\n",
    "# Broadcast a Series across rows (column-wise operation)     \n",
    "column_weights = pd.Series({'Math': 0.6, 'Science': 0.4})\n",
    "df_weighted = df.mul(column_weights, axis=1)\n",
    "print(\"\\nColumn-wise Weighted Adjustment:\\n\", df_weighted)"
   ]
  },
  {
   "cell_type": "markdown",
   "id": "306288c5",
   "metadata": {},
   "source": [
    "\n",
    "2. Use .add(), .sub(), .div(), etc., to perform safe arithmetic with fill values.\n"
   ]
  },
  {
   "cell_type": "code",
   "execution_count": 31,
   "id": "d5f68a4e",
   "metadata": {},
   "outputs": [
    {
     "name": "stdout",
     "output_type": "stream",
     "text": [
      "\n",
      "Safe Addition with fill_value=0:\n",
      "      A   B     C\n",
      "0  1.0  13  30.0\n",
      "1  2.0  24  40.0\n"
     ]
    }
   ],
   "source": [
    "df1 = pd.DataFrame({'A': [1, 2], 'B': [3, 4]})\n",
    "df2 = pd.DataFrame({'B': [10, 20], 'C': [30, 40]})\n",
    "\n",
    "safe_add = df1.add(df2, fill_value=0)\n",
    "print(\"\\nSafe Addition with fill_value=0:\\n\", safe_add)"
   ]
  },
  {
   "cell_type": "markdown",
   "id": "88850a87",
   "metadata": {},
   "source": [
    "\n",
    "3. Calculate row-wise and column-wise statistics (mean, sum, std, etc.) using .agg() and .apply().\n"
   ]
  },
  {
   "cell_type": "code",
   "execution_count": 32,
   "id": "83b59a2b",
   "metadata": {},
   "outputs": [
    {
     "name": "stdout",
     "output_type": "stream",
     "text": [
      "\n",
      "Column-wise Statistics:\n",
      "        Math  Science\n",
      "mean   80.0     85.0\n",
      "std    10.0     10.0\n",
      "sum   240.0    255.0\n",
      "\n",
      "Row-wise Statistics:\n",
      "          mean       std    sum\n",
      "Alice    82.5  3.535534  165.0\n",
      "Bob      92.5  3.535534  185.0\n",
      "Charlie  72.5  3.535534  145.0\n"
     ]
    }
   ],
   "source": [
    "# Column-wise stats\n",
    "col_stats = df.agg(['mean', 'std', 'sum'])\n",
    "print(\"\\nColumn-wise Statistics:\\n\", col_stats)\n",
    "\n",
    "# Row-wise stats\n",
    "row_stats = df.agg(['mean', 'std', 'sum'], axis=1)\n",
    "print(\"\\nRow-wise Statistics:\\n\", row_stats)"
   ]
  },
  {
   "cell_type": "markdown",
   "id": "379535e9",
   "metadata": {},
   "source": [
    "\n",
    "4. Use axis parameters to normalize each row and column in a DataFrame.\n"
   ]
  },
  {
   "cell_type": "code",
   "execution_count": 33,
   "id": "c7cf6996",
   "metadata": {},
   "outputs": [
    {
     "name": "stdout",
     "output_type": "stream",
     "text": [
      "\n",
      "Normalized Columns:\n",
      "          Math  Science\n",
      "Alice     0.0      0.0\n",
      "Bob       1.0      1.0\n",
      "Charlie  -1.0     -1.0\n",
      "\n",
      "Column-wise normalized (z-score):\n",
      "          Math  Science\n",
      "Alice     0.0      0.0\n",
      "Bob       1.0      1.0\n",
      "Charlie  -1.0     -1.0\n",
      "\n",
      "Row-wise normalized (z-score):\n",
      "              Math   Science\n",
      "Alice   -0.707107  0.707107\n",
      "Bob     -0.707107  0.707107\n",
      "Charlie -0.707107  0.707107\n"
     ]
    }
   ],
   "source": [
    "# Normalize columns (axis=0): subtract col mean, divide by col std\n",
    "norm_cols = (df - df.mean()) / df.std()\n",
    "print(\"\\nNormalized Columns:\\n\", norm_cols)\n",
    "\n",
    "# Normalize rows (axis=1): subtract row mean, divide by row std\n",
    "norm_rows = df.sub(df.mean(axis=1), axis=0).div(df.std(axis=1), axis=0)\n",
    "\n",
    "print(\"\\nColumn-wise normalized (z-score):\\n\", norm_cols)\n",
    "print(\"\\nRow-wise normalized (z-score):\\n\", norm_rows)\n"
   ]
  },
  {
   "cell_type": "markdown",
   "id": "c179fd51",
   "metadata": {},
   "source": [
    "\n",
    "5. Create a function that accepts a DataFrame and returns a standardized (z-score normalized) version.\n"
   ]
  },
  {
   "cell_type": "code",
   "execution_count": null,
   "id": "65a088d8",
   "metadata": {},
   "outputs": [],
   "source": [
    "def zscore_standardize(series):\n",
    "    return (series - series.mean()) / series.std()\n"
   ]
  },
  {
   "cell_type": "markdown",
   "id": "7d629057",
   "metadata": {},
   "source": [
    "Section 3.7 – Handling Missing Data\n"
   ]
  },
  {
   "cell_type": "markdown",
   "id": "f1370623",
   "metadata": {},
   "source": [
    "1. Create a DataFrame with intentional NaN values. Use .isnull() and .notnull() to locate them.\n"
   ]
  },
  {
   "cell_type": "code",
   "execution_count": 35,
   "id": "3719084e",
   "metadata": {},
   "outputs": [
    {
     "name": "stdout",
     "output_type": "stream",
     "text": [
      "\n",
      ".isnull():\n",
      "     Name   Math  Science  English\n",
      "0  False  False     True    False\n",
      "1  False   True    False    False\n",
      "2  False  False     True    False\n",
      "3  False  False    False     True\n",
      "\n",
      ".notnull():\n",
      "    Name   Math  Science  English\n",
      "0  True   True    False     True\n",
      "1  True  False     True     True\n",
      "2  True   True    False     True\n",
      "3  True   True     True    False\n"
     ]
    }
   ],
   "source": [
    "df = pd.DataFrame({\n",
    "    'Name': ['Alice', 'Bob', 'Charlie', 'David'],\n",
    "    'Math': [85, np.nan, 78, 92],\n",
    "    'Science': [np.nan, 88, np.nan, 95],\n",
    "    'English': [75, 85, 80, np.nan]\n",
    "})\n",
    "\n",
    "print(\"\\n.isnull():\\n\", df.isnull())\n",
    "print(\"\\n.notnull():\\n\", df.notnull())\n"
   ]
  },
  {
   "cell_type": "markdown",
   "id": "b4a763ad",
   "metadata": {},
   "source": [
    "\n",
    "2. Drop rows or columns with missing data using dropna() with different thresholds.\n"
   ]
  },
  {
   "cell_type": "code",
   "execution_count": 36,
   "id": "3773194c",
   "metadata": {},
   "outputs": [
    {
     "name": "stdout",
     "output_type": "stream",
     "text": [
      "\n",
      "Drop rows with any NaN:\n",
      " Empty DataFrame\n",
      "Columns: [Name, Math, Science, English]\n",
      "Index: []\n",
      "\n",
      "Drop rows with at least 2 non-NaNs:\n",
      "       Name  Math  Science  English\n",
      "0    Alice  85.0      NaN     75.0\n",
      "1      Bob   NaN     88.0     85.0\n",
      "2  Charlie  78.0      NaN     80.0\n",
      "3    David  92.0     95.0      NaN\n",
      "\n",
      "Drop columns with all NaNs:\n",
      "       Name  Math  Science  English\n",
      "0    Alice  85.0      NaN     75.0\n",
      "1      Bob   NaN     88.0     85.0\n",
      "2  Charlie  78.0      NaN     80.0\n",
      "3    David  92.0     95.0      NaN\n"
     ]
    }
   ],
   "source": [
    "dropped_any = df.dropna()\n",
    "dropped_thresh = df.dropna(thresh=2)\n",
    "dropped_cols = df.dropna(axis=1, how='all')\n",
    "\n",
    "print(\"\\nDrop rows with any NaN:\\n\", dropped_any)\n",
    "print(\"\\nDrop rows with at least 2 non-NaNs:\\n\", dropped_thresh)\n",
    "print(\"\\nDrop columns with all NaNs:\\n\", dropped_cols)\n"
   ]
  },
  {
   "cell_type": "markdown",
   "id": "a47e8476",
   "metadata": {},
   "source": [
    "\n",
    "3. Fill missing data using constant values, forward-fill, and backward-fill.\n"
   ]
  },
  {
   "cell_type": "code",
   "execution_count": 37,
   "id": "9c2a6e8f",
   "metadata": {},
   "outputs": [
    {
     "name": "stdout",
     "output_type": "stream",
     "text": [
      "\n",
      "Fill with constant 0:\n",
      "       Name  Math  Science  English\n",
      "0    Alice  85.0      0.0     75.0\n",
      "1      Bob   0.0     88.0     85.0\n",
      "2  Charlie  78.0      0.0     80.0\n",
      "3    David  92.0     95.0      0.0\n",
      "\n",
      "Forward-fill:\n",
      "       Name  Math  Science  English\n",
      "0    Alice  85.0      NaN     75.0\n",
      "1      Bob  85.0     88.0     85.0\n",
      "2  Charlie  78.0     88.0     80.0\n",
      "3    David  92.0     95.0     80.0\n",
      "\n",
      "Backward-fill:\n",
      "       Name  Math  Science  English\n",
      "0    Alice  85.0     88.0     75.0\n",
      "1      Bob  78.0     88.0     85.0\n",
      "2  Charlie  78.0     95.0     80.0\n",
      "3    David  92.0     95.0      NaN\n"
     ]
    },
    {
     "name": "stderr",
     "output_type": "stream",
     "text": [
      "/tmp/ipykernel_1948/1007365248.py:5: FutureWarning: DataFrame.fillna with 'method' is deprecated and will raise in a future version. Use obj.ffill() or obj.bfill() instead.\n",
      "  filled_ffill = df.fillna(method='ffill')\n",
      "/tmp/ipykernel_1948/1007365248.py:8: FutureWarning: DataFrame.fillna with 'method' is deprecated and will raise in a future version. Use obj.ffill() or obj.bfill() instead.\n",
      "  filled_bfill = df.fillna(method='bfill')\n"
     ]
    }
   ],
   "source": [
    "# Fill with a constant\n",
    "filled_constant = df.fillna(0)\n",
    "\n",
    "# Forward-fill (propagate previous value)\n",
    "filled_ffill = df.fillna(method='ffill')\n",
    "\n",
    "# Backward-fill (propagate next value)\n",
    "filled_bfill = df.fillna(method='bfill')\n",
    "\n",
    "print(\"\\nFill with constant 0:\\n\", filled_constant)\n",
    "print(\"\\nForward-fill:\\n\", filled_ffill)\n",
    "print(\"\\nBackward-fill:\\n\", filled_bfill)"
   ]
  },
  {
   "cell_type": "markdown",
   "id": "707cbd5a",
   "metadata": {},
   "source": [
    "\n",
    "4. Use .interpolate() on time series data with gaps.\n"
   ]
  },
  {
   "cell_type": "code",
   "execution_count": 38,
   "id": "630b5080",
   "metadata": {},
   "outputs": [
    {
     "name": "stdout",
     "output_type": "stream",
     "text": [
      "\n",
      "Time Series with Gaps:\n",
      " 2023-01-01    1.0\n",
      "2023-01-02    NaN\n",
      "2023-01-03    NaN\n",
      "2023-01-04    4.0\n",
      "2023-01-05    NaN\n",
      "2023-01-06    6.0\n",
      "Freq: D, dtype: float64\n",
      "\n",
      "Interpolated Time Series:\n",
      " 2023-01-01    1.0\n",
      "2023-01-02    2.0\n",
      "2023-01-03    3.0\n",
      "2023-01-04    4.0\n",
      "2023-01-05    5.0\n",
      "2023-01-06    6.0\n",
      "Freq: D, dtype: float64\n"
     ]
    }
   ],
   "source": [
    "# Time-indexed data with gaps\n",
    "date_range = pd.date_range('2023-01-01', periods=6, freq='D')\n",
    "ts = pd.Series([1, np.nan, np.nan, 4, np.nan, 6], index=date_range)\n",
    "print(\"\\nTime Series with Gaps:\\n\", ts)\n",
    "# Interpolate missing values\n",
    "ts_interpolated = ts.interpolate(method='time')\n",
    "print(\"\\nInterpolated Time Series:\\n\", ts_interpolated)"
   ]
  },
  {
   "cell_type": "markdown",
   "id": "f41943a9",
   "metadata": {},
   "source": [
    "\n",
    "5. Create a reusable cleaning pipeline using functions that handle missing values in different ways.\n"
   ]
  },
  {
   "cell_type": "code",
   "execution_count": 41,
   "id": "6ffd670d",
   "metadata": {},
   "outputs": [],
   "source": [
    "def clean_missing_data(df, strategy='fill', value=None, method=None, axis=0, thresh=None):\n",
    "    \"\"\"\n",
    "    Clean missing data in a DataFrame.\n",
    "    \n",
    "    Parameters:\n",
    "        df (pd.DataFrame): Input DataFrame.\n",
    "        strategy (str): 'drop' to drop rows/columns, 'fill' to fill NaNs.\n",
    "        value (any): Value to fill NaNs with (if strategy='fill').\n",
    "        method (str): Method for filling ('ffill', 'bfill', 'interpolate').\n",
    "        axis (int): Axis to drop along (0 for rows, 1 for columns).\n",
    "        thresh (int): Minimum number of non-NaN values required to keep the row/column.\n",
    "    \n",
    "    Returns:\n",
    "        pd.DataFrame: Cleaned DataFrame.\n",
    "    \"\"\"\n",
    "    if strategy == 'drop':\n",
    "        return df.dropna(axis=axis, thresh=thresh)\n",
    "    elif strategy == 'fill':\n",
    "        if method:\n",
    "            return df.fillna(method=method)\n",
    "        else:\n",
    "            return df.fillna(value=value)\n",
    "    else:\n",
    "        raise ValueError(\"Invalid strategy. Use 'drop' or 'fill'.\")"
   ]
  },
  {
   "cell_type": "markdown",
   "id": "615f2114",
   "metadata": {},
   "source": [
    "Section 3.8 – Hierarchical Indexing\n"
   ]
  },
  {
   "cell_type": "markdown",
   "id": "4f47d5ed",
   "metadata": {},
   "source": [
    "1. Construct a MultiIndex DataFrame and select data using tuple-based indexing.\n"
   ]
  },
  {
   "cell_type": "code",
   "execution_count": 47,
   "id": "86a8de75",
   "metadata": {},
   "outputs": [
    {
     "name": "stdout",
     "output_type": "stream",
     "text": [
      "MultiIndex DataFrame:\n",
      "                  Alice  Bob\n",
      "Subject Exam               \n",
      "Math    Midterm     85   78\n",
      "        Final       90   82\n",
      "Science Midterm     88   80\n",
      "        Final       92   85\n",
      "\n",
      "Alice's Science Final score: 92\n"
     ]
    }
   ],
   "source": [
    "import pandas as pd\n",
    "import numpy as np\n",
    "\n",
    "# Create MultiIndex\n",
    "arrays = [\n",
    "    ['Math', 'Math', 'Science', 'Science'],\n",
    "    ['Midterm', 'Final', 'Midterm', 'Final']\n",
    "]\n",
    "index = pd.MultiIndex.from_arrays(arrays, names=['Subject', 'Exam'])\n",
    "\n",
    "# Create DataFrame\n",
    "df = pd.DataFrame(\n",
    "    {\n",
    "        'Alice': [85, 90, 88, 92],\n",
    "        'Bob': [78, 82, 80, 85]\n",
    "    },\n",
    "    index=index\n",
    ")\n",
    "\n",
    "print(\"MultiIndex DataFrame:\\n\", df)\n",
    "\n",
    "# Select using tuple-based indexing\n",
    "print(\"\\nAlice's Science Final score:\", df.loc[('Science', 'Final'), 'Alice'])\n"
   ]
  },
  {
   "cell_type": "markdown",
   "id": "416f5442",
   "metadata": {},
   "source": [
    "\n",
    "2. Use .stack() and .unstack() to reshape a MultiIndex DataFrame.\n"
   ]
  },
  {
   "cell_type": "code",
   "execution_count": 48,
   "id": "39199a06",
   "metadata": {},
   "outputs": [
    {
     "name": "stdout",
     "output_type": "stream",
     "text": [
      "\n",
      "Stacked DataFrame:\n",
      " Subject  Exam          \n",
      "Math     Midterm  Alice    85\n",
      "                  Bob      78\n",
      "         Final    Alice    90\n",
      "                  Bob      82\n",
      "Science  Midterm  Alice    88\n",
      "                  Bob      80\n",
      "         Final    Alice    92\n",
      "                  Bob      85\n",
      "dtype: int64\n",
      "\n",
      "Unstacked DataFrame:\n",
      "         Alice           Bob        \n",
      "Exam    Final Midterm Final Midterm\n",
      "Subject                            \n",
      "Math       90      85    82      78\n",
      "Science    92      88    85      80\n"
     ]
    }
   ],
   "source": [
    "# Stack (move columns to row index)\n",
    "stacked = df.stack()\n",
    "print(\"\\nStacked DataFrame:\\n\", stacked)\n",
    "\n",
    "# Unstack (move inner row index to columns)\n",
    "unstacked = df.unstack()\n",
    "print(\"\\nUnstacked DataFrame:\\n\", unstacked)\n"
   ]
  },
  {
   "cell_type": "markdown",
   "id": "90d075b1",
   "metadata": {},
   "source": [
    "\n",
    "3. Use .xs() to extract cross-sections from a MultiIndex structure.\n"
   ]
  },
  {
   "cell_type": "code",
   "execution_count": 49,
   "id": "38b308af",
   "metadata": {},
   "outputs": [
    {
     "name": "stdout",
     "output_type": "stream",
     "text": [
      "\n",
      "All Midterm scores:\n",
      "          Alice  Bob\n",
      "Subject            \n",
      "Math        85   78\n",
      "Science     88   80\n",
      "\n",
      "All Math exam scores:\n",
      "          Alice  Bob\n",
      "Exam               \n",
      "Midterm     85   78\n",
      "Final       90   82\n"
     ]
    }
   ],
   "source": [
    "# Get all 'Midterm' exams\n",
    "midterms = df.xs('Midterm', level='Exam')\n",
    "print(\"\\nAll Midterm scores:\\n\", midterms)\n",
    "\n",
    "# Get all exams for 'Math'\n",
    "math = df.xs('Math', level='Subject')\n",
    "print(\"\\nAll Math exam scores:\\n\", math)\n"
   ]
  },
  {
   "cell_type": "markdown",
   "id": "f1b2456a",
   "metadata": {},
   "source": [
    "\n",
    "4. Demonstrate aggregation over a MultiIndex using .groupby(level=...).\n"
   ]
  },
  {
   "cell_type": "code",
   "execution_count": 50,
   "id": "52ef26b1",
   "metadata": {},
   "outputs": [
    {
     "name": "stdout",
     "output_type": "stream",
     "text": [
      "\n",
      "Mean score per subject:\n",
      "          Alice   Bob\n",
      "Subject             \n",
      "Math      87.5  80.0\n",
      "Science   90.0  82.5\n",
      "\n",
      "Mean score per exam type:\n",
      "          Alice   Bob\n",
      "Exam                \n",
      "Final     91.0  83.5\n",
      "Midterm   86.5  79.0\n"
     ]
    }
   ],
   "source": [
    "# Mean score per subject\n",
    "subject_means = df.groupby(level='Subject').mean()\n",
    "print(\"\\nMean score per subject:\\n\", subject_means)\n",
    "\n",
    "# Mean score per exam type\n",
    "exam_means = df.groupby(level='Exam').mean()\n",
    "print(\"\\nMean score per exam type:\\n\", exam_means)\n"
   ]
  },
  {
   "cell_type": "markdown",
   "id": "8bf698c1",
   "metadata": {},
   "source": [
    "\n",
    "5. Modify levels with .rename_axis() and flatten the MultiIndex.\n",
    "\n"
   ]
  },
  {
   "cell_type": "code",
   "execution_count": 51,
   "id": "c0ff86dd",
   "metadata": {},
   "outputs": [
    {
     "name": "stdout",
     "output_type": "stream",
     "text": [
      "\n",
      "Renamed index levels:\n",
      "                  Alice  Bob\n",
      "Course  Test               \n",
      "Math    Midterm     85   78\n",
      "        Final       90   82\n",
      "Science Midterm     88   80\n",
      "        Final       92   85\n",
      "\n",
      "Flattened MultiIndex:\n",
      "                  Alice  Bob\n",
      "Math_Midterm        85   78\n",
      "Math_Final          90   82\n",
      "Science_Midterm     88   80\n",
      "Science_Final       92   85\n"
     ]
    }
   ],
   "source": [
    "df_renamed = df.rename_axis(index={'Subject': 'Course', 'Exam': 'Test'})\n",
    "print(\"\\nRenamed index levels:\\n\", df_renamed)\n",
    "\n",
    "# Flatten index\n",
    "df_flat = df.copy()\n",
    "df_flat.index = ['_'.join(tup) for tup in df_flat.index]\n",
    "print(\"\\nFlattened MultiIndex:\\n\", df_flat)\n"
   ]
  },
  {
   "cell_type": "markdown",
   "id": "b4207af3",
   "metadata": {},
   "source": [
    "Section 3.9 – Concat and Append\n"
   ]
  },
  {
   "cell_type": "markdown",
   "id": "91a1f940",
   "metadata": {},
   "source": [
    "1. Concatenate Series and DataFrames along different axes using pd.concat().\n"
   ]
  },
  {
   "cell_type": "code",
   "execution_count": 53,
   "id": "d937bd9d",
   "metadata": {},
   "outputs": [
    {
     "name": "stdout",
     "output_type": "stream",
     "text": [
      "\n",
      "Vertical Series concat:\n",
      " 0    1\n",
      "1    2\n",
      "2    3\n",
      "0    4\n",
      "1    5\n",
      "2    6\n",
      "dtype: int64\n",
      "\n",
      " Horizontal Series concat:\n",
      "    A  B\n",
      "0  1  4\n",
      "1  2  5\n",
      "2  3  6\n"
     ]
    }
   ],
   "source": [
    "import pandas as pd\n",
    "\n",
    "s1 = pd.Series([1, 2, 3], name='A')\n",
    "s2 = pd.Series([4, 5, 6], name='B')\n",
    "\n",
    "# Concatenate vertically (axis=0, default)\n",
    "concat_vert = pd.concat([s1, s2])\n",
    "print(\"\\nVertical Series concat:\\n\", concat_vert)\n",
    "\n",
    "# Concatenate horizontally (axis=1)\n",
    "concat_horiz = pd.concat([s1, s2], axis=1)\n",
    "print(\"\\n Horizontal Series concat:\\n\", concat_horiz)\n"
   ]
  },
  {
   "cell_type": "markdown",
   "id": "dc206127",
   "metadata": {},
   "source": [
    "\n",
    "2. Demonstrate keys= and names= parameters in concatenation.\n"
   ]
  },
  {
   "cell_type": "code",
   "execution_count": 55,
   "id": "b63bbb2b",
   "metadata": {},
   "outputs": [
    {
     "name": "stdout",
     "output_type": "stream",
     "text": [
      "\n",
      " Concatenation with keys and names:\n",
      "               value\n",
      "Group  Index       \n",
      "Group1 a        100\n",
      "       b        200\n",
      "Group2 a        300\n",
      "       b        400\n"
     ]
    }
   ],
   "source": [
    "df1 = pd.DataFrame({'value': [100, 200]}, index=['a', 'b'])\n",
    "df2 = pd.DataFrame({'value': [300, 400]}, index=['a', 'b'])\n",
    "\n",
    "# Concatenate with keys to make a MultiIndex\n",
    "concat_with_keys = pd.concat([df1, df2], keys=['Group1', 'Group2'], names=['Group', 'Index'])\n",
    "\n",
    "print(\"\\n Concatenation with keys and names:\\n\", concat_with_keys)\n"
   ]
  },
  {
   "cell_type": "markdown",
   "id": "f503059a",
   "metadata": {},
   "source": [
    "\n",
    "3. Append rows to a DataFrame using .append() and contrast with pd.concat().\n"
   ]
  },
  {
   "cell_type": "code",
   "execution_count": 62,
   "id": "b7982d10",
   "metadata": {},
   "outputs": [
    {
     "name": "stdout",
     "output_type": "stream",
     "text": [
      "\n",
      "✅ concat() result:\n",
      "    value\n",
      "a    100\n",
      "b    200\n",
      "c    999\n"
     ]
    }
   ],
   "source": [
    "\n",
    "row = pd.DataFrame({'value': [999]}, index=['c'])\n",
    "\n",
    "\"\"\"\n",
    "Append seems to be deprecated and gives an error now\n",
    "\"\"\"\n",
    "\n",
    "# pd.concat\n",
    "concatenated = pd.concat([df1, row])\n",
    "\n",
    "print(\"\\n✅ concat() result:\\n\", concatenated)\n"
   ]
  },
  {
   "cell_type": "markdown",
   "id": "1f022da3",
   "metadata": {},
   "source": [
    "\n",
    "4. Concatenate DataFrames with overlapping and non-overlapping columns and observe output.\n"
   ]
  },
  {
   "cell_type": "code",
   "execution_count": 63,
   "id": "2db8af62",
   "metadata": {},
   "outputs": [
    {
     "name": "stdout",
     "output_type": "stream",
     "text": [
      "\n",
      "Concatenation with different columns:\n",
      "      A  B    C\n",
      "0  1.0  3  NaN\n",
      "1  2.0  4  NaN\n",
      "2  NaN  5  7.0\n",
      "3  NaN  6  8.0\n"
     ]
    }
   ],
   "source": [
    "df1 = pd.DataFrame({'A': [1, 2], 'B': [3, 4]})\n",
    "df2 = pd.DataFrame({'B': [5, 6], 'C': [7, 8]})\n",
    "\n",
    "concat_mixed = pd.concat([df1, df2], ignore_index=True)\n",
    "print(\"\\nConcatenation with different columns:\\n\", concat_mixed)\n"
   ]
  },
  {
   "cell_type": "markdown",
   "id": "5363dea0",
   "metadata": {},
   "source": [
    "\n",
    "5. Write a function to combine a list of DataFrames and clean resulting index/columns.\n"
   ]
  },
  {
   "cell_type": "code",
   "execution_count": 65,
   "id": "149f2d92",
   "metadata": {},
   "outputs": [
    {
     "name": "stdout",
     "output_type": "stream",
     "text": [
      "\n",
      "Combined & cleaned DataFrame:\n",
      "    A    B    C\n",
      "0  1  2.0  0.0\n",
      "1  3  0.0  4.0\n"
     ]
    }
   ],
   "source": [
    "def combine_and_clean(dfs, reset_index=True, fillna_value=None):\n",
    "    \"\"\"\n",
    "    Combine multiple DataFrames and clean missing values.\n",
    "    \n",
    "    Parameters:\n",
    "        dfs (list of pd.DataFrame): List of DataFrames to combine.\n",
    "        reset_index (bool): Whether to reset the index after concatenation.\n",
    "        fillna_value (any): Value to fill NaNs with after concatenation.\n",
    "    \n",
    "    Returns:\n",
    "        pd.DataFrame: Combined and cleaned DataFrame.\n",
    "    \"\"\"\n",
    "    combined = pd.concat(dfs, ignore_index=reset_index)\n",
    "    if fillna_value is not None:\n",
    "        combined.fillna(fillna_value, inplace=True)\n",
    "    return combined\n",
    "\n",
    "df1 = pd.DataFrame({'A': [1], 'B': [2]})\n",
    "df2 = pd.DataFrame({'A': [3], 'C': [4]})\n",
    "\n",
    "cleaned_df = combine_and_clean([df1, df2], reset_index=True, fillna_value=0)\n",
    "print(\"\\nCombined & cleaned DataFrame:\\n\", cleaned_df)\n"
   ]
  },
  {
   "cell_type": "markdown",
   "id": "ca01a16d",
   "metadata": {},
   "source": [
    "Section 3.10 – Merging and Joining"
   ]
  },
  {
   "cell_type": "markdown",
   "id": "73614fd3",
   "metadata": {},
   "source": [
    "1. Merge two DataFrames with a one-to-one relationship using a common column.\n"
   ]
  },
  {
   "cell_type": "code",
   "execution_count": 66,
   "id": "db88263a",
   "metadata": {},
   "outputs": [
    {
     "name": "stdout",
     "output_type": "stream",
     "text": [
      "One-to-one merge:\n",
      "    ID     Name  Age\n",
      "0   1    Alice   24\n",
      "1   2      Bob   30\n",
      "2   3  Charlie   25\n"
     ]
    }
   ],
   "source": [
    "# Create DataFrames\n",
    "df1 = pd.DataFrame({\n",
    "    'ID': [1, 2, 3],\n",
    "    'Name': ['Alice', 'Bob', 'Charlie']\n",
    "})\n",
    "df2 = pd.DataFrame({\n",
    "    'ID': [1, 2, 3],\n",
    "    'Age': [24, 30, 25]\n",
    "})\n",
    "\n",
    "# Merge on the 'ID' column (one-to-one relationship)\n",
    "merged_one_to_one = pd.merge(df1, df2, on='ID')\n",
    "\n",
    "print(\"One-to-one merge:\\n\", merged_one_to_one)\n"
   ]
  },
  {
   "cell_type": "markdown",
   "id": "cf110dbd",
   "metadata": {},
   "source": [
    "\n",
    "2. Perform many-to-one and many-to-many merges and explain the results.\n"
   ]
  },
  {
   "cell_type": "code",
   "execution_count": null,
   "id": "65f545e6",
   "metadata": {},
   "outputs": [
    {
     "name": "stdout",
     "output_type": "stream",
     "text": [
      "\n",
      "Many-to-one merge:\n",
      "    ID  Score  Age\n",
      "0   1     85   24\n",
      "1   1     90   24\n",
      "2   2     88   30\n",
      "3   2     95   30\n",
      "4   3     78   25\n",
      "\n",
      "🔀 Many-to-many merge:\n",
      "    ID  Score  Subject\n",
      "0   1     85     Math\n",
      "1   1     85  History\n",
      "2   1     90     Math\n",
      "3   1     90  History\n",
      "4   2     88  Science\n",
      "5   2     95  Science\n",
      "6   3     78  English\n"
     ]
    }
   ],
   "source": [
    "df3 = pd.DataFrame({\n",
    "    'ID': [1, 1, 2, 2, 3],\n",
    "    'Score': [85, 90, 88, 95, 78]\n",
    "})\n",
    "\n",
    "# Perform Many-to-One merge (df3 has multiple entries for each ID)\n",
    "merged_many_to_one = pd.merge(df3, df2, on='ID')\n",
    "print(\"\\nMany-to-one merge:\\n\", merged_many_to_one)\n",
    "\n",
    "\"\"\"\n",
    "One row in df2 for each ID in df3.\n",
    "The result will have multiple rows for each ID in df2.\n",
    "\"\"\"\n",
    "\n",
    "df4 = pd.DataFrame({\n",
    "    'ID': [1, 2, 3, 1],\n",
    "    'Subject': ['Math', 'Science', 'English', 'History']\n",
    "})\n",
    "# Perform Many-to-Many merge (both df3 and df4 have duplicate IDs)\n",
    "merged_many_to_many = pd.merge(df3, df4, on='ID')\n",
    "\n",
    "print(\"\\n🔀 Many-to-many merge:\\n\", merged_many_to_many)\n",
    "\n",
    "\"\"\"\n",
    "Many rows in df3 for each ID in df4 and vice versa.\n",
    "The result will have all combinations of matching rows.\n",
    "\"\"\""
   ]
  },
  {
   "cell_type": "markdown",
   "id": "f2a03fd6",
   "metadata": {},
   "source": [
    "\n",
    "3. Use on=, left_on=, right_on=, and suffixes= parameters for disambiguation.\n"
   ]
  },
  {
   "cell_type": "code",
   "execution_count": 70,
   "id": "849f9a90",
   "metadata": {},
   "outputs": [
    {
     "name": "stdout",
     "output_type": "stream",
     "text": [
      "\n",
      "Merge on different column names:\n",
      "    EmployeeID     Name  StaffID  Salary\n",
      "0           1    Alice        1    1000\n",
      "1           2      Bob        2    1200\n",
      "2           3  Charlie        3    1100\n"
     ]
    }
   ],
   "source": [
    "# DataFrames with different column names\n",
    "df5 = pd.DataFrame({\n",
    "    'EmployeeID': [1, 2, 3],\n",
    "    'Name': ['Alice', 'Bob', 'Charlie']\n",
    "})\n",
    "df6 = pd.DataFrame({\n",
    "    'StaffID': [1, 2, 3],\n",
    "    'Salary': [1000, 1200, 1100]\n",
    "})\n",
    "\n",
    "# Merge on different column names using `left_on` and `right_on`\n",
    "merged_on_diff_names = pd.merge(df5, df6, left_on='EmployeeID', right_on='StaffID')\n",
    "\n",
    "print(\"\\nMerge on different column names:\\n\", merged_on_diff_names)\n"
   ]
  },
  {
   "cell_type": "markdown",
   "id": "d0bca830",
   "metadata": {},
   "source": [
    "\n",
    "4. Join DataFrames on their index using .join() with different join methods.\n"
   ]
  },
  {
   "cell_type": "code",
   "execution_count": 72,
   "id": "26a6abeb",
   "metadata": {},
   "outputs": [
    {
     "name": "stdout",
     "output_type": "stream",
     "text": [
      "\n",
      "Join DataFrames on index:\n",
      "       Name  Age  Salary\n",
      "1    Alice   24    1000\n",
      "2      Bob   30    1200\n",
      "3  Charlie   25    1100\n",
      "\n",
      "Outer join:\n",
      "       Name  Age  Salary\n",
      "1    Alice   24    1000\n",
      "2      Bob   30    1200\n",
      "3  Charlie   25    1100\n",
      "\n",
      "Inner join:\n",
      "       Name  Age  Salary\n",
      "1    Alice   24    1000\n",
      "2      Bob   30    1200\n",
      "3  Charlie   25    1100\n"
     ]
    }
   ],
   "source": [
    "# DataFrames to join on index\n",
    "df7 = pd.DataFrame({\n",
    "    'Name': ['Alice', 'Bob', 'Charlie'],\n",
    "    'Age': [24, 30, 25]\n",
    "}, index=[1, 2, 3])\n",
    "\n",
    "df8 = pd.DataFrame({\n",
    "    'Salary': [1000, 1200, 1100]\n",
    "}, index=[1, 2, 3])\n",
    "\n",
    "# Join DataFrames on index (default is left join)\n",
    "joined_index = df7.join(df8)\n",
    "print(\"\\nJoin DataFrames on index:\\n\", joined_index)\n",
    "\n",
    "# Join with different join methods: 'left', 'right', 'outer', 'inner'\n",
    "outer_join = df7.join(df8, how='outer')\n",
    "print(\"\\nOuter join:\\n\", outer_join)\n",
    "\n",
    "inner_join = df7.join(df8, how='inner')\n",
    "print(\"\\nInner join:\\n\", inner_join)"
   ]
  },
  {
   "cell_type": "markdown",
   "id": "f8a8324d",
   "metadata": {},
   "source": [
    "\n",
    "5. Merge three or more DataFrames and track source using indicator=True.\n"
   ]
  },
  {
   "cell_type": "code",
   "execution_count": 73,
   "id": "27cefce8",
   "metadata": {},
   "outputs": [
    {
     "name": "stdout",
     "output_type": "stream",
     "text": [
      "\n",
      "Merge three DataFrames:\n",
      "    ID   Name   Age  Salary\n",
      "0   1  Alice  24.0     NaN\n",
      "1   2    Bob  30.0  1000.0\n",
      "2   3    NaN   NaN  1200.0\n"
     ]
    }
   ],
   "source": [
    "df9 = pd.DataFrame({\n",
    "    'ID': [1, 2, 3],\n",
    "    'Name': ['Alice', 'Bob', 'Charlie']\n",
    "})\n",
    "df10 = pd.DataFrame({\n",
    "    'ID': [1, 2],\n",
    "    'Age': [24, 30]\n",
    "})\n",
    "df11 = pd.DataFrame({\n",
    "    'ID': [2, 3],\n",
    "    'Salary': [1000, 1200]\n",
    "})\n",
    "\n",
    "merged_three = df9.merge(df10, on='ID').merge(df11, on='ID', how='outer')\n",
    "print(\"\\nMerge three DataFrames:\\n\", merged_three)\n"
   ]
  },
  {
   "cell_type": "markdown",
   "id": "bbefd59f",
   "metadata": {},
   "source": [
    "Section 3.11 – Example: US States Data\n"
   ]
  },
  {
   "cell_type": "markdown",
   "id": "4d508d5d",
   "metadata": {},
   "source": [
    "1. Load state area, abbreviation, and population data from CSV files."
   ]
  },
  {
   "cell_type": "code",
   "execution_count": null,
   "id": "7263aa57",
   "metadata": {},
   "outputs": [
    {
     "name": "stdout",
     "output_type": "stream",
     "text": [
      "State Area, Abbreviation, and Population Data:\n",
      "             State Abbreviation    Area  Population\n",
      "0      California           CA  163696    39512223\n",
      "1           Texas           TX  268596    28995881\n",
      "2         Florida           FL   65758    21477737\n",
      "3        New York           NY   54555    19453561\n",
      "4    Pennsylvania           PA   46058    12801989\n",
      "5        Illinois           IL   57914    12671821\n",
      "6            Ohio           OH   44826    11689100\n",
      "7         Georgia           GA   59425    10617423\n",
      "8  North Carolina           NC   53819    10488084\n",
      "9        Michigan           MI   96714     9986857\n",
      "\n",
      "State Names Data:\n",
      "             State\n",
      "0      California\n",
      "1           Texas\n",
      "2         Florida\n",
      "3        New York\n",
      "4    Pennsylvania\n",
      "5        Illinois\n",
      "6            Ohio\n",
      "7         Georgia\n",
      "8  North Carolina\n",
      "9        Michigan\n"
     ]
    }
   ],
   "source": [
    "df_area_population = pd.read_csv('state_population.csv')\n",
    "df_state_names = pd.read_csv('state_names.csv')\n",
    "\n",
    "# Display the loaded DataFrames\n",
    "print(\"State Area, Abbreviation, and Population Data:\\n\", df_area_population)\n",
    "print(\"\\nState Names Data:\\n\", df_state_names)"
   ]
  },
  {
   "cell_type": "markdown",
   "id": "e78dd659",
   "metadata": {},
   "source": [
    "\n",
    "2. Merge the datasets on state names to create a complete DataFrame.\n"
   ]
  },
  {
   "cell_type": "code",
   "execution_count": 75,
   "id": "cc97d881",
   "metadata": {},
   "outputs": [
    {
     "name": "stdout",
     "output_type": "stream",
     "text": [
      "\n",
      "Merged DataFrame:\n",
      "             State Abbreviation    Area  Population\n",
      "0      California           CA  163696    39512223\n",
      "1           Texas           TX  268596    28995881\n",
      "2         Florida           FL   65758    21477737\n",
      "3        New York           NY   54555    19453561\n",
      "4    Pennsylvania           PA   46058    12801989\n",
      "5        Illinois           IL   57914    12671821\n",
      "6            Ohio           OH   44826    11689100\n",
      "7         Georgia           GA   59425    10617423\n",
      "8  North Carolina           NC   53819    10488084\n",
      "9        Michigan           MI   96714     9986857\n"
     ]
    }
   ],
   "source": [
    "df_merged = pd.merge(df_state_names, df_area_population, on='State')\n",
    "print(\"\\nMerged DataFrame:\\n\", df_merged)"
   ]
  },
  {
   "cell_type": "markdown",
   "id": "b96bc90e",
   "metadata": {},
   "source": [
    "3. Compute population density and filter top 10 most densely populated states."
   ]
  },
  {
   "cell_type": "code",
   "execution_count": 77,
   "id": "929e64e8",
   "metadata": {},
   "outputs": [
    {
     "name": "stdout",
     "output_type": "stream",
     "text": [
      "\n",
      "Population Density:\n",
      "             State     Density\n",
      "0      California  241.375617\n",
      "1           Texas  107.953510\n",
      "2         Florida  326.617856\n",
      "3        New York  356.586216\n",
      "4    Pennsylvania  277.953645\n",
      "5        Illinois  218.804106\n",
      "6            Ohio  260.766073\n",
      "7         Georgia  178.669297\n",
      "8  North Carolina  194.876977\n",
      "9        Michigan  103.261751\n",
      "\n",
      "Top 10 Most Densely Populated States:\n",
      "             State Abbreviation    Area  Population     Density\n",
      "3        New York           NY   54555    19453561  356.586216\n",
      "2         Florida           FL   65758    21477737  326.617856\n",
      "4    Pennsylvania           PA   46058    12801989  277.953645\n",
      "6            Ohio           OH   44826    11689100  260.766073\n",
      "0      California           CA  163696    39512223  241.375617\n",
      "5        Illinois           IL   57914    12671821  218.804106\n",
      "8  North Carolina           NC   53819    10488084  194.876977\n",
      "7         Georgia           GA   59425    10617423  178.669297\n",
      "1           Texas           TX  268596    28995881  107.953510\n",
      "9        Michigan           MI   96714     9986857  103.261751\n"
     ]
    }
   ],
   "source": [
    "# Calculate population density (Population / Area)\n",
    "df_merged['Density'] = df_merged['Population'] / df_merged['Area']\n",
    "print(\"\\nPopulation Density:\\n\", df_merged[['State', 'Density']])\n",
    "\n",
    "# Sort by Density and get the top 10\n",
    "top_10_dense_states = df_merged.sort_values(by='Density', ascending=False).head(10)\n",
    "\n",
    "# Display top 10 densely populated states\n",
    "print(\"\\nTop 10 Most Densely Populated States:\\n\", top_10_dense_states)\n"
   ]
  },
  {
   "cell_type": "markdown",
   "id": "84a4b170",
   "metadata": {},
   "source": [
    "\n",
    "\n",
    "4. Add a categorical column based on population size (e.g., small, medium, large).\n"
   ]
  },
  {
   "cell_type": "code",
   "execution_count": null,
   "id": "af5acaa1",
   "metadata": {},
   "outputs": [
    {
     "name": "stdout",
     "output_type": "stream",
     "text": [
      "\n",
      "DataFrame with Population Categories:\n",
      "             State Abbreviation    Area  Population     Density Population_Category\n",
      "0      California           CA  163696    39512223  241.375617               Large\n",
      "1           Texas           TX  268596    28995881  107.953510               Large\n",
      "2         Florida           FL   65758    21477737  326.617856               Large\n",
      "3        New York           NY   54555    19453561  356.586216              Medium\n",
      "4    Pennsylvania           PA   46058    12801989  277.953645              Medium\n",
      "5        Illinois           IL   57914    12671821  218.804106              Medium\n",
      "6            Ohio           OH   44826    11689100  260.766073              Medium\n",
      "7         Georgia           GA   59425    10617423  178.669297              Medium\n",
      "8  North Carolina           NC   53819    10488084  194.876977              Medium\n",
      "9        Michigan           MI   96714     9986857  103.261751               Small\n"
     ]
    }
   ],
   "source": [
    "# Define a function to categorize population size\n",
    "def categorize_population(population):\n",
    "    if population > 20000000:\n",
    "        return 'Large'\n",
    "    elif population > 10000000:\n",
    "        return 'Medium'\n",
    "    else:\n",
    "        return 'Small'\n",
    "\n",
    "# Apply the function to create a new column\n",
    "df_merged['Population_Category'] = df_merged['Population'].apply(categorize_population)\n",
    "pd.set_option('display.width', 1000)\n",
    "\n",
    "# Display the updated DataFrame\n",
    "print(\"\\nDataFrame with Population Categories:\\n\", df_merged)\n"
   ]
  },
  {
   "cell_type": "markdown",
   "id": "6274b018",
   "metadata": {},
   "source": [
    "\n",
    "5. Visualize state population vs. area using a scatter plot. Highlight states with population > 10 million.\n",
    "\n"
   ]
  },
  {
   "cell_type": "code",
   "execution_count": null,
   "id": "f3175617",
   "metadata": {},
   "outputs": [
    {
     "data": {
      "image/png": "[encoded data removed]",
      "text/plain": [
       "<Figure size 1000x600 with 2 Axes>"
      ]
     },
     "metadata": {},
     "output_type": "display_data"
    }
   ],
   "source": [
    "import matplotlib.pyplot as plt\n",
    "\n",
    "# Create the scatter plot\n",
    "plt.figure(figsize=(10, 6))\n",
    "plt.scatter(df_merged['Area'], df_merged['Population'], c=df_merged['Population'], cmap='coolwarm')\n",
    "\n",
    "# Title and labels\n",
    "plt.title('State Population vs. Area')\n",
    "plt.xlabel('Area (sq miles)')\n",
    "plt.ylabel('Population')\n",
    "\n",
    "# Highlight the states with population > 10 million\n",
    "for i in range(len(df_merged)):\n",
    "        plt.annotate(df_merged['State'][i], (df_merged['Area'][i], df_merged['Population'][i]), fontsize=9)\n",
    "\n",
    "# Show the plot\n",
    "plt.colorbar(label='Population > 10 million')\n",
    "plt.show()\n"
   ]
  }
 ],
 "metadata": {
  "kernelspec": {
   "display_name": "myenv",
   "language": "python",
   "name": "python3"
  },
  "language_info": {
   "codemirror_mode": {
    "name": "ipython",
    "version": 3
   },
   "file_extension": ".py",
   "mimetype": "text/x-python",
   "name": "python",
   "nbconvert_exporter": "python",
   "pygments_lexer": "ipython3",
   "version": "3.12.3"
  }
 },
 "nbformat": 4,
 "nbformat_minor": 5
}
